{
 "cells": [
  {
   "cell_type": "markdown",
   "id": "e704c7f9",
   "metadata": {},
   "source": [
    "# Chapter 4: Functional Programming: Rudimentary Statistics and Analytics"
   ]
  },
  {
   "cell_type": "markdown",
   "id": "47d8c862",
   "metadata": {},
   "source": [
    "| New Concepts | Description |\n",
    "| --- | --- |\n",
    "| _return obj_ (from function) | Functions may return an object to be saved if a variable is defined by the function i.e., var1 = function(obj1, obj2, . . .)|"
   ]
  },
  {
   "cell_type": "code",
   "execution_count": 3,
   "id": "32ffe659",
   "metadata": {},
   "outputs": [
    {
     "ename": "SyntaxError",
     "evalue": "invalid syntax (832649975.py, line 1)",
     "output_type": "error",
     "traceback": [
      "\u001b[1;36m  File \u001b[1;32m\"C:\\Users\\adamp\\AppData\\Local\\Temp\\ipykernel_17664\\832649975.py\"\u001b[1;36m, line \u001b[1;32m1\u001b[0m\n\u001b[1;33m    def function_name(object1, object2, . . ., objectn):\u001b[0m\n\u001b[1;37m                                        ^\u001b[0m\n\u001b[1;31mSyntaxError\u001b[0m\u001b[1;31m:\u001b[0m invalid syntax\n"
     ]
    }
   ],
   "source": [
    "def function_name(object1, object2, . . ., objectn):\n",
    "    <operations>"
   ]
  },
  {
   "cell_type": "markdown",
   "id": "7041fabc",
   "metadata": {},
   "source": [
    "### Total \n",
    "\n",
    "$\\sum_{i=0}^{n-1} x_{i}$"
   ]
  },
  {
   "cell_type": "code",
   "execution_count": 10,
   "id": "eafd6fda",
   "metadata": {
    "scrolled": false
   },
   "outputs": [
    {
     "name": "stdout",
     "output_type": "stream",
     "text": [
      "total\t value\n",
      "0 \t 0\n",
      "1 \t 1\n",
      "3 \t 2\n",
      "6 \t 3\n",
      "10 \t 4\n",
      "15 \t 5\n",
      "21 \t 6\n",
      "28 \t 7\n",
      "36 \t 8\n",
      "45 \t 9\n"
     ]
    }
   ],
   "source": [
    "n = 0\n",
    "total = 0\n",
    "values = [i for i in range(10)]\n",
    "\n",
    "print(\"total\\t\",\"value\")\n",
    "for value in values:\n",
    "    total += value\n",
    "    print(total,\"\\t\", value)"
   ]
  },
  {
   "cell_type": "code",
   "execution_count": 11,
   "id": "3657fda9",
   "metadata": {},
   "outputs": [],
   "source": [
    "# Don't keep copying and pasting old code..."
   ]
  },
  {
   "cell_type": "code",
   "execution_count": 12,
   "id": "72fb4d4a",
   "metadata": {},
   "outputs": [
    {
     "data": {
      "text/plain": [
       "45"
      ]
     },
     "execution_count": 12,
     "metadata": {},
     "output_type": "execute_result"
    }
   ],
   "source": [
    "def total(lst):\n",
    "    total_ = 0\n",
    "    # in original I used the index of the list\n",
    "    # . . . \n",
    "    # n = len(lst)\n",
    "    # for i in range(n)\n",
    "    for val in lst:\n",
    "        total_ += val\n",
    "    return total_\n",
    "total(values)"
   ]
  },
  {
   "cell_type": "code",
   "execution_count": 13,
   "id": "69f7681c",
   "metadata": {},
   "outputs": [
    {
     "data": {
      "text/plain": [
       "94313645"
      ]
     },
     "execution_count": 13,
     "metadata": {},
     "output_type": "execute_result"
    }
   ],
   "source": [
    "total([i for i in range(-1000,100000,53)])"
   ]
  },
  {
   "cell_type": "code",
   "execution_count": 14,
   "id": "911938d3",
   "metadata": {},
   "outputs": [
    {
     "data": {
      "text/plain": [
       "(165, 593)"
      ]
     },
     "execution_count": 14,
     "metadata": {},
     "output_type": "execute_result"
    }
   ],
   "source": [
    "import random\n",
    "X1 = [3, 6, 9, 12, 15,18,21,24,27,30]\n",
    "X2 = [random.randint(0,100) for i in range(10)]\n",
    "total(X1), total(X2)"
   ]
  },
  {
   "cell_type": "markdown",
   "id": "b3ecc167",
   "metadata": {},
   "source": [
    "### Mean\n",
    "\n",
    "Let $X_1, X_2,...,X_n$ represent $n$ values from a random variables. For a given dataset, useful descriptive statistics of central tendency include mean, median, and mode, which we built as functions in a previous chapter. \n",
    "\n",
    "We define the mean of a set of numbers:\n",
    "$\\bar{X} = \\frac{\\sum_{i=0}^{n-1} x_{i}} {n}$"
   ]
  },
  {
   "cell_type": "code",
   "execution_count": 18,
   "id": "1df15d63",
   "metadata": {},
   "outputs": [
    {
     "data": {
      "text/plain": [
       "(16.5, 59.3)"
      ]
     },
     "execution_count": 18,
     "metadata": {},
     "output_type": "execute_result"
    }
   ],
   "source": [
    "def mean(lst):\n",
    "    n = len(lst)\n",
    "    mean_ = total(lst) / n\n",
    "    return mean_\n",
    "mean(X1), mean(X2)"
   ]
  },
  {
   "cell_type": "markdown",
   "id": "f8704bb1",
   "metadata": {},
   "source": [
    "Now let's build the rest of the summary statistical functions\n",
    "1. median\n",
    "2. mode\n",
    "3. variance\n",
    "4. standard deviation\n",
    "5. standard error\n",
    "6. covariance\n",
    "7. correlation"
   ]
  },
  {
   "cell_type": "markdown",
   "id": "fb3fc904",
   "metadata": {},
   "source": [
    "### Median"
   ]
  },
  {
   "cell_type": "code",
   "execution_count": 38,
   "id": "ae10383c",
   "metadata": {
    "scrolled": true
   },
   "outputs": [
    {
     "name": "stdout",
     "output_type": "stream",
     "text": [
      "[3, 6, 9, 12, 15, 18, 21, 24, 27, 30]\n",
      "[15, 18]\n",
      "[55, 62]\n"
     ]
    },
    {
     "data": {
      "text/plain": [
       "(16.5, 58.5)"
      ]
     },
     "execution_count": 38,
     "metadata": {},
     "output_type": "execute_result"
    }
   ],
   "source": [
    "def median(lst):\n",
    "    n = len(lst)\n",
    "    lst = sorted(lst)\n",
    "    \n",
    "    # two cases: \n",
    "    # 1. list of odd length\n",
    "    # i % j checks for remainder upon dividing i by j\n",
    "    if n % 2 != 0:\n",
    "        middle_index = int((n - 1) / 2)\n",
    "        median_ = lst[middle_index]\n",
    "     # 2. list of even length  \n",
    "    else:\n",
    "        upper_middle_index = int(n / 2)\n",
    "        lower_middle_index = upper_middle_index - 1\n",
    "        # pass slice with two middle values to mean()\n",
    "        print(lst[lower_middle_index: upper_middle_index + 1])\n",
    "        median_ = mean(lst[lower_middle_index: upper_middle_index + 1])\n",
    "    return median_\n",
    "\n",
    "print(X1)\n",
    "median(X1), median(X2)"
   ]
  },
  {
   "cell_type": "code",
   "execution_count": 40,
   "id": "5b405e64",
   "metadata": {},
   "outputs": [
    {
     "data": {
      "text/plain": [
       "15"
      ]
     },
     "execution_count": 40,
     "metadata": {},
     "output_type": "execute_result"
    }
   ],
   "source": [
    "# transform X1 to be of odd length by removing the last index\n",
    "# this is to test the first case int he median() function\n",
    "median(X1[:-1])"
   ]
  },
  {
   "cell_type": "code",
   "execution_count": 24,
   "id": "59f572b8",
   "metadata": {},
   "outputs": [
    {
     "data": {
      "text/plain": [
       "[29, 31, 32, 35, 55, 62, 78, 85, 90, 96]"
      ]
     },
     "execution_count": 24,
     "metadata": {},
     "output_type": "execute_result"
    }
   ],
   "source": [
    "sorted(X2)"
   ]
  },
  {
   "cell_type": "markdown",
   "id": "8d2d20f4",
   "metadata": {},
   "source": [
    "### Mode"
   ]
  },
  {
   "cell_type": "code",
   "execution_count": 56,
   "id": "cf68ebf0",
   "metadata": {},
   "outputs": [
    {
     "data": {
      "text/plain": [
       "[1, 5]"
      ]
     },
     "execution_count": 56,
     "metadata": {},
     "output_type": "execute_result"
    }
   ],
   "source": [
    "def mode(lst):\n",
    "    count_dct = {}\n",
    "    # create entries for each value with 0\n",
    "    for key in lst:\n",
    "        count_dct[key] = 0\n",
    "    # add up each occurence\n",
    "    for key in lst:\n",
    "        count_dct[key] += 1\n",
    "    # calculate max_count up front\n",
    "    max_count = max(count_dct.values())\n",
    "    # now we can compare each count to the max count\n",
    "    mode_ = []\n",
    "    for key, count in count_dct.items():\n",
    "        if count == max_count:\n",
    "            mode_.append(key)\n",
    "            # mode always returns as a list type\n",
    "    \n",
    "    return mode_\n",
    "\n",
    "lst = [1,1,1,1,1,1,2,3,4,5,5,5,5,5,5,242]\n",
    "mode(lst)"
   ]
  },
  {
   "cell_type": "code",
   "execution_count": 58,
   "id": "4683a9b5",
   "metadata": {},
   "outputs": [],
   "source": [
    "if 1 == 2:\n",
    "    print(\"run code\")"
   ]
  },
  {
   "cell_type": "code",
   "execution_count": 60,
   "id": "23cfd881",
   "metadata": {},
   "outputs": [
    {
     "name": "stdout",
     "output_type": "stream",
     "text": [
      "run code\n"
     ]
    }
   ],
   "source": [
    "if 1 == 1:\n",
    "    print(\"run code\")"
   ]
  },
  {
   "cell_type": "markdown",
   "id": "b588bb49",
   "metadata": {},
   "source": [
    "### Variance\n",
    "\n",
    "\n",
    "$$ \\sigma^2 = \\frac{\\sum_{i=1}^n (X_i - \\bar{X})^2}{n}$$\n",
    "\n",
    "When we are dealing with a sample, which is a subset of a population of observations, then we divide by $n - 1$, the **Degrees of Freedom**, to unbias the calculation. \n",
    "\n",
    "$$DoF = n - 1$$\n",
    "\n",
    "\n",
    "$$ S^2 = \\frac{\\sum_{i=1}^n (X_i - \\bar{X})^2}{n-1}$$\n"
   ]
  },
  {
   "cell_type": "code",
   "execution_count": 61,
   "id": "dfdf95b3",
   "metadata": {},
   "outputs": [],
   "source": [
    "# variance is the attempt to measure the "
   ]
  },
  {
   "cell_type": "code",
   "execution_count": 71,
   "id": "691fa971",
   "metadata": {},
   "outputs": [
    {
     "data": {
      "text/plain": [
       "(82.5, 74.25)"
      ]
     },
     "execution_count": 71,
     "metadata": {},
     "output_type": "execute_result"
    }
   ],
   "source": [
    "def variance(lst, sample = True):\n",
    "    list_mean = mean(lst)\n",
    "    n = len(lst)\n",
    "    DoF = n - 1\n",
    "    sum_sq_diff = 0\n",
    "    \n",
    "    for val in lst:\n",
    "        diff = val - list_mean\n",
    "        sum_sq_diff += (diff) ** 2\n",
    "        # print(val, list_mean, diff, sum_sq_diff)\n",
    "    if sample == False:\n",
    "        variance_ = sum_sq_diff / n\n",
    "    else:\n",
    "        variance_ = sum_sq_diff / DoF\n",
    "    return variance_\n",
    "\n",
    "        \n",
    "variance(X1, sample = True), variance(X1, sample = False)"
   ]
  },
  {
   "cell_type": "code",
   "execution_count": 72,
   "id": "bc6f4829",
   "metadata": {},
   "outputs": [
    {
     "data": {
      "text/plain": [
       "(708.9, 638.01)"
      ]
     },
     "execution_count": 72,
     "metadata": {},
     "output_type": "execute_result"
    }
   ],
   "source": [
    "variance(X2, sample = True), variance(X2, sample = False)"
   ]
  },
  {
   "cell_type": "code",
   "execution_count": 74,
   "id": "71822cf5",
   "metadata": {},
   "outputs": [
    {
     "data": {
      "text/plain": [
       "(9.082951062292475, 8.616843969807043)"
      ]
     },
     "execution_count": 74,
     "metadata": {},
     "output_type": "execute_result"
    }
   ],
   "source": [
    "def SD(lst, sample = True):\n",
    "    SD_ = variance(lst, sample) ** (1/2)\n",
    "    return SD_\n",
    "SD(X1, sample = True), SD(X1, sample = False)"
   ]
  },
  {
   "cell_type": "code",
   "execution_count": 75,
   "id": "944a8540",
   "metadata": {},
   "outputs": [
    {
     "data": {
      "text/plain": [
       "(26.62517605575595, 25.258859831750126)"
      ]
     },
     "execution_count": 75,
     "metadata": {},
     "output_type": "execute_result"
    }
   ],
   "source": [
    "SD(X2, sample = True), SD(X2, sample = False)"
   ]
  }
 ],
 "metadata": {
  "kernelspec": {
   "display_name": "Python 3 (ipykernel)",
   "language": "python",
   "name": "python3"
  },
  "language_info": {
   "codemirror_mode": {
    "name": "ipython",
    "version": 3
   },
   "file_extension": ".py",
   "mimetype": "text/x-python",
   "name": "python",
   "nbconvert_exporter": "python",
   "pygments_lexer": "ipython3",
   "version": "3.9.13"
  }
 },
 "nbformat": 4,
 "nbformat_minor": 5
}
