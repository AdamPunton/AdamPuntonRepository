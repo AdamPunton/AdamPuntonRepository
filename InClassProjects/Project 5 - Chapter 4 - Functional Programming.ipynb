{
 "cells": [
  {
   "cell_type": "markdown",
   "id": "0d474948",
   "metadata": {},
   "source": [
    "# Chapter 4: Functional Programming: Rudimentary Statistics and Analytics"
   ]
  },
  {
   "cell_type": "markdown",
   "id": "00b13deb",
   "metadata": {},
   "source": [
    "| New Concepts | Description |\n",
    "| --- | --- |\n",
    "| _return obj_ (from function) | Functions may return an object to be saved if a variable is defined by the function i.e., var1 = function(obj1, obj2, . . .)|"
   ]
  },
  {
   "cell_type": "code",
   "execution_count": 6,
   "id": "7b2cec3e",
   "metadata": {},
   "outputs": [
    {
     "ename": "SyntaxError",
     "evalue": "invalid syntax (832649975.py, line 1)",
     "output_type": "error",
     "traceback": [
      "\u001b[1;36m  File \u001b[1;32m\"C:\\Users\\adamp\\AppData\\Local\\Temp\\ipykernel_1280\\832649975.py\"\u001b[1;36m, line \u001b[1;32m1\u001b[0m\n\u001b[1;33m    def function_name(object1, object2, . . ., objectn):\u001b[0m\n\u001b[1;37m                                        ^\u001b[0m\n\u001b[1;31mSyntaxError\u001b[0m\u001b[1;31m:\u001b[0m invalid syntax\n"
     ]
    }
   ],
   "source": [
    "def function_name(object1, object2, . . ., objectn):\n",
    "    <operations>"
   ]
  },
  {
   "cell_type": "markdown",
   "id": "8c8a12c3",
   "metadata": {},
   "source": [
    "### Total \n",
    "\n",
    "$\\sum_{i=0}^{n-1} x_{i}$"
   ]
  },
  {
   "cell_type": "code",
   "execution_count": 7,
   "id": "45e61e5d",
   "metadata": {
    "scrolled": false
   },
   "outputs": [
    {
     "name": "stdout",
     "output_type": "stream",
     "text": [
      "total\t value\n",
      "0 \t 0\n",
      "1 \t 1\n",
      "3 \t 2\n",
      "6 \t 3\n",
      "10 \t 4\n",
      "15 \t 5\n",
      "21 \t 6\n",
      "28 \t 7\n",
      "36 \t 8\n",
      "45 \t 9\n"
     ]
    }
   ],
   "source": [
    "n = 0\n",
    "total = 0\n",
    "values = [i for i in range(10)]\n",
    "\n",
    "print(\"total\\t\",\"value\")\n",
    "for value in values:\n",
    "    total += value\n",
    "    print(total,\"\\t\", value)"
   ]
  },
  {
   "cell_type": "code",
   "execution_count": 8,
   "id": "1a24ca40",
   "metadata": {},
   "outputs": [],
   "source": [
    "# Don't keep copying and pasting old code..."
   ]
  },
  {
   "cell_type": "code",
   "execution_count": 9,
   "id": "a93afd59",
   "metadata": {},
   "outputs": [
    {
     "data": {
      "text/plain": [
       "45"
      ]
     },
     "execution_count": 9,
     "metadata": {},
     "output_type": "execute_result"
    }
   ],
   "source": [
    "def total(lst):\n",
    "    total_ = 0\n",
    "    # in original I used the index of the list\n",
    "    # . . . \n",
    "    # n = len(lst)\n",
    "    # for i in range(n)\n",
    "    for val in lst:\n",
    "        total_ += val\n",
    "    return total_\n",
    "total(values)"
   ]
  },
  {
   "cell_type": "code",
   "execution_count": 10,
   "id": "10665308",
   "metadata": {},
   "outputs": [
    {
     "data": {
      "text/plain": [
       "94313645"
      ]
     },
     "execution_count": 10,
     "metadata": {},
     "output_type": "execute_result"
    }
   ],
   "source": [
    "total([i for i in range(-1000,100000,53)])"
   ]
  },
  {
   "cell_type": "code",
   "execution_count": 11,
   "id": "be0d0a1b",
   "metadata": {},
   "outputs": [
    {
     "data": {
      "text/plain": [
       "(165, 572)"
      ]
     },
     "execution_count": 11,
     "metadata": {},
     "output_type": "execute_result"
    }
   ],
   "source": [
    "import random\n",
    "X1 = [3, 6, 9, 12, 15,18,21,24,27,30]\n",
    "X2 = [random.randint(0,100) for i in range(10)]\n",
    "total(X1), total(X2)"
   ]
  },
  {
   "cell_type": "markdown",
   "id": "2834bfd9",
   "metadata": {},
   "source": [
    "### Mean\n",
    "\n",
    "Let $X_1, X_2,...,X_n$ represent $n$ values from a random variables. For a given dataset, useful descriptive statistics of central tendency include mean, median, and mode, which we built as functions in a previous chapter. \n",
    "\n",
    "We define the mean of a set of numbers:\n",
    "$\\bar{X} = \\frac{\\sum_{i=0}^{n-1} x_{i}} {n}$"
   ]
  },
  {
   "cell_type": "code",
   "execution_count": 12,
   "id": "02f22f0f",
   "metadata": {},
   "outputs": [
    {
     "data": {
      "text/plain": [
       "(16.5, 57.2)"
      ]
     },
     "execution_count": 12,
     "metadata": {},
     "output_type": "execute_result"
    }
   ],
   "source": [
    "def mean(lst):\n",
    "    n = len(lst)\n",
    "    mean_ = total(lst) / n\n",
    "    return mean_\n",
    "mean(X1), mean(X2)"
   ]
  },
  {
   "cell_type": "markdown",
   "id": "ae0ce358",
   "metadata": {},
   "source": [
    "Now let's build the rest of the summary statistical functions\n",
    "1. median\n",
    "2. mode\n",
    "3. variance\n",
    "4. standard deviation\n",
    "5. standard error\n",
    "6. covariance\n",
    "7. correlation"
   ]
  },
  {
   "cell_type": "markdown",
   "id": "6cbd39f7",
   "metadata": {},
   "source": [
    "### Median"
   ]
  },
  {
   "cell_type": "code",
   "execution_count": 13,
   "id": "4fb457f0",
   "metadata": {
    "scrolled": true
   },
   "outputs": [
    {
     "name": "stdout",
     "output_type": "stream",
     "text": [
      "[3, 6, 9, 12, 15, 18, 21, 24, 27, 30]\n",
      "[15, 18]\n",
      "[64, 68]\n"
     ]
    },
    {
     "data": {
      "text/plain": [
       "(16.5, 66.0)"
      ]
     },
     "execution_count": 13,
     "metadata": {},
     "output_type": "execute_result"
    }
   ],
   "source": [
    "def median(lst):\n",
    "    n = len(lst)\n",
    "    lst = sorted(lst)\n",
    "    \n",
    "    # two cases: \n",
    "    # 1. list of odd length\n",
    "    # i % j checks for remainder upon dividing i by j\n",
    "    if n % 2 != 0:\n",
    "        middle_index = int((n - 1) / 2)\n",
    "        median_ = lst[middle_index]\n",
    "     # 2. list of even length  \n",
    "    else:\n",
    "        upper_middle_index = int(n / 2)\n",
    "        lower_middle_index = upper_middle_index - 1\n",
    "        # pass slice with two middle values to mean()\n",
    "        print(lst[lower_middle_index: upper_middle_index + 1])\n",
    "        median_ = mean(lst[lower_middle_index: upper_middle_index + 1])\n",
    "    return median_\n",
    "\n",
    "print(X1)\n",
    "median(X1), median(X2)"
   ]
  },
  {
   "cell_type": "code",
   "execution_count": 14,
   "id": "bff375b5",
   "metadata": {},
   "outputs": [
    {
     "data": {
      "text/plain": [
       "15"
      ]
     },
     "execution_count": 14,
     "metadata": {},
     "output_type": "execute_result"
    }
   ],
   "source": [
    "# transform X1 to be of odd length by removing the last index\n",
    "# this is to test the first case int he median() function\n",
    "median(X1[:-1])"
   ]
  },
  {
   "cell_type": "code",
   "execution_count": 15,
   "id": "261957b5",
   "metadata": {},
   "outputs": [
    {
     "data": {
      "text/plain": [
       "[2, 27, 38, 51, 64, 68, 68, 75, 79, 100]"
      ]
     },
     "execution_count": 15,
     "metadata": {},
     "output_type": "execute_result"
    }
   ],
   "source": [
    "sorted(X2)"
   ]
  },
  {
   "cell_type": "markdown",
   "id": "4f025989",
   "metadata": {},
   "source": [
    "### Mode"
   ]
  },
  {
   "cell_type": "code",
   "execution_count": 16,
   "id": "0914c505",
   "metadata": {},
   "outputs": [
    {
     "data": {
      "text/plain": [
       "[1, 5]"
      ]
     },
     "execution_count": 16,
     "metadata": {},
     "output_type": "execute_result"
    }
   ],
   "source": [
    "def mode(lst):\n",
    "    count_dct = {}\n",
    "    # create entries for each value with 0\n",
    "    for key in lst:\n",
    "        count_dct[key] = 0\n",
    "    # add up each occurence\n",
    "    for key in lst:\n",
    "        count_dct[key] += 1\n",
    "    # calculate max_count up front\n",
    "    max_count = max(count_dct.values())\n",
    "    # now we can compare each count to the max count\n",
    "    mode_ = []\n",
    "    for key, count in count_dct.items():\n",
    "        if count == max_count:\n",
    "            mode_.append(key)\n",
    "            # mode always returns as a list type\n",
    "    \n",
    "    return mode_\n",
    "\n",
    "lst = [1,1,1,1,1,1,2,3,4,5,5,5,5,5,5,242]\n",
    "mode(lst)"
   ]
  },
  {
   "cell_type": "code",
   "execution_count": 17,
   "id": "0569bad0",
   "metadata": {},
   "outputs": [],
   "source": [
    "if 1 == 2:\n",
    "    print(\"run code\")"
   ]
  },
  {
   "cell_type": "code",
   "execution_count": 18,
   "id": "4355fdca",
   "metadata": {},
   "outputs": [
    {
     "name": "stdout",
     "output_type": "stream",
     "text": [
      "run code\n"
     ]
    }
   ],
   "source": [
    "if 1 == 1:\n",
    "    print(\"run code\")"
   ]
  },
  {
   "cell_type": "markdown",
   "id": "52035a01",
   "metadata": {},
   "source": [
    "### Variance\n",
    "\n",
    "\n",
    "$$ \\sigma^2 = \\frac{\\sum_{i=1}^n (X_i - \\bar{X})^2}{n}$$\n",
    "\n",
    "When we are dealing with a sample, which is a subset of a population of observations, then we divide by $n - 1$, the **Degrees of Freedom**, to unbias the calculation. \n",
    "\n",
    "$$DoF = n - 1$$\n",
    "\n",
    "\n",
    "$$ S^2 = \\frac{\\sum_{i=1}^n (X_i - \\bar{X})^2}{n-1}$$\n"
   ]
  },
  {
   "cell_type": "code",
   "execution_count": 19,
   "id": "74558201",
   "metadata": {},
   "outputs": [],
   "source": [
    "# variance is the attempt to measure the spread of the data from the mean"
   ]
  },
  {
   "cell_type": "code",
   "execution_count": 20,
   "id": "aa8e1887",
   "metadata": {},
   "outputs": [
    {
     "data": {
      "text/plain": [
       "(82.5, 74.25)"
      ]
     },
     "execution_count": 20,
     "metadata": {},
     "output_type": "execute_result"
    }
   ],
   "source": [
    "def variance(lst, sample = True):\n",
    "    list_mean = mean(lst)\n",
    "    n = len(lst)\n",
    "    DoF = n - 1\n",
    "    sum_sq_diff = 0\n",
    "    \n",
    "    for val in lst:\n",
    "        diff = val - list_mean\n",
    "        sum_sq_diff += (diff) ** 2\n",
    "        # print(val, list_mean, diff, sum_sq_diff)\n",
    "    if sample == False:\n",
    "        variance_ = sum_sq_diff / n\n",
    "    else:\n",
    "        variance_ = sum_sq_diff / DoF\n",
    "    return variance_\n",
    "\n",
    "        \n",
    "variance(X1, sample = True), variance(X1, sample = False)"
   ]
  },
  {
   "cell_type": "code",
   "execution_count": 21,
   "id": "e35e083f",
   "metadata": {},
   "outputs": [
    {
     "data": {
      "text/plain": [
       "(807.7333333333333, 726.96)"
      ]
     },
     "execution_count": 21,
     "metadata": {},
     "output_type": "execute_result"
    }
   ],
   "source": [
    "variance(X2, sample = True), variance(X2, sample = False)"
   ]
  },
  {
   "cell_type": "code",
   "execution_count": 22,
   "id": "6f06ca3c",
   "metadata": {},
   "outputs": [],
   "source": [
    "### SD = "
   ]
  },
  {
   "cell_type": "code",
   "execution_count": 23,
   "id": "c9fcad46",
   "metadata": {},
   "outputs": [
    {
     "data": {
      "text/plain": [
       "(9.082951062292475, 8.616843969807043)"
      ]
     },
     "execution_count": 23,
     "metadata": {},
     "output_type": "execute_result"
    }
   ],
   "source": [
    "def SD(lst, sample = True):\n",
    "    SD_ = variance(lst, sample) ** (1/2)\n",
    "    return SD_\n",
    "SD(X1, sample = True), SD(X1, sample = False)"
   ]
  },
  {
   "cell_type": "code",
   "execution_count": 24,
   "id": "64b5870a",
   "metadata": {
    "scrolled": true
   },
   "outputs": [
    {
     "data": {
      "text/plain": [
       "(28.42064976972436, 26.962195756280682)"
      ]
     },
     "execution_count": 24,
     "metadata": {},
     "output_type": "execute_result"
    }
   ],
   "source": [
    "SD(X2, sample = True), SD(X2, sample = False)"
   ]
  },
  {
   "cell_type": "markdown",
   "id": "b42a74b6",
   "metadata": {},
   "source": [
    "### Standard Error"
   ]
  },
  {
   "cell_type": "code",
   "execution_count": 25,
   "id": "58c53206",
   "metadata": {},
   "outputs": [],
   "source": [
    "def STE(lst, sample = True):\n",
    "    n = len(lst)\n",
    "    se = SD(lst, sample) / n ** (1/2)\n",
    "    \n",
    "    return se"
   ]
  },
  {
   "cell_type": "code",
   "execution_count": 26,
   "id": "9a8aba2b",
   "metadata": {},
   "outputs": [
    {
     "data": {
      "text/plain": [
       "(9.082951062292475, 2.872281323269014)"
      ]
     },
     "execution_count": 26,
     "metadata": {},
     "output_type": "execute_result"
    }
   ],
   "source": [
    "SD(X1, sample = True), STE(X1, sample = True)"
   ]
  },
  {
   "cell_type": "code",
   "execution_count": 27,
   "id": "34d46c9e",
   "metadata": {},
   "outputs": [
    {
     "data": {
      "text/plain": [
       "(28.42064976972436, 8.987398585426893)"
      ]
     },
     "execution_count": 27,
     "metadata": {},
     "output_type": "execute_result"
    }
   ],
   "source": [
    "SD(X2, sample = True), STE(X2, sample = True)"
   ]
  },
  {
   "cell_type": "code",
   "execution_count": 28,
   "id": "46bad0d6",
   "metadata": {},
   "outputs": [],
   "source": [
    "# longer the list the smaller the standard error"
   ]
  },
  {
   "cell_type": "markdown",
   "id": "ff916d25",
   "metadata": {},
   "source": [
    "### Covariance\n",
    "\n",
    "To calculate covariance, we multiply the sum of the product of the difference between the observed value and the mean of each list for value _i = 1_ through _n = number of observations_:\n",
    "\n",
    "$cov_{pop}(x,y) = \\frac{\\sum_{i=0}^{n-1} (x_{i} - x_{mean})(y_{i} - y_{mean})} {n}$\n",
    "\n",
    "We pass two lists through the covariance() function. As with the _variance()_ and _SD()_ functions, we can take the sample-covariance.\n",
    "\n",
    "$cov_{sample}(x,y) = \\frac{\\sum_{i=0}^{n-1} (x_{i} - x_{mean})(y_{i} - y_{mean})} {n - 1}$"
   ]
  },
  {
   "cell_type": "code",
   "execution_count": 69,
   "id": "c4d2b879",
   "metadata": {},
   "outputs": [
    {
     "data": {
      "text/plain": [
       "-89.33333333333333"
      ]
     },
     "execution_count": 69,
     "metadata": {},
     "output_type": "execute_result"
    }
   ],
   "source": [
    "def covariance(lst1, lst2, sample = False):\n",
    "    mean1 = mean(lst1)\n",
    "    mean2 = mean(lst2)\n",
    "    \n",
    "    cov = 0\n",
    "    n1 = len(lst1)\n",
    "    n2 = len(lst2)\n",
    "    if n1 == n2:\n",
    "        n = n1\n",
    "        # sum the product of the differences\n",
    "        for i in range(n):\n",
    "            cov += (lst1[i] - mean1) * (lst2[i] - mean2)\n",
    "            \n",
    "        if sample == False: \n",
    "            cov = cov/n\n",
    "        else: \n",
    "            cov = cov / (n - 1)\n",
    "            \n",
    "        return cov\n",
    "    else: \n",
    "        print(\"List lengths are not equal\")\n",
    "        print(\"List1:\", n1)\n",
    "        print(\"List2:\", n2)\n",
    "    \n",
    "covariance(X1, X2, sample = True)"
   ]
  },
  {
   "cell_type": "code",
   "execution_count": 30,
   "id": "ed6be3cc",
   "metadata": {},
   "outputs": [
    {
     "name": "stdout",
     "output_type": "stream",
     "text": [
      "List lengths are not equal\n",
      "List1: 9\n",
      "List2: 10\n"
     ]
    }
   ],
   "source": [
    "covariance(X1[:-1], X2)"
   ]
  },
  {
   "cell_type": "markdown",
   "id": "52566390",
   "metadata": {},
   "source": [
    "$corr_{pop}(x,y) = \\frac{cov_{pop}(x, y)} {\\sigma_x \\sigma_y}$"
   ]
  },
  {
   "cell_type": "code",
   "execution_count": 70,
   "id": "10c7a88c",
   "metadata": {},
   "outputs": [
    {
     "data": {
      "text/plain": [
       "-0.31145483102379434"
      ]
     },
     "execution_count": 70,
     "metadata": {},
     "output_type": "execute_result"
    }
   ],
   "source": [
    "def correlation(lst1, lst2):\n",
    "    cov = covariance(lst1, lst2)\n",
    "    SD1 = SD(lst1)\n",
    "    SD2 = SD(lst2)\n",
    "    corr = cov / (SD1 * SD2)\n",
    "    \n",
    "    return corr\n",
    "correlation(X1, X2)"
   ]
  },
  {
   "cell_type": "code",
   "execution_count": 71,
   "id": "2e0b5d8a",
   "metadata": {},
   "outputs": [
    {
     "data": {
      "text/plain": [
       "-0.9"
      ]
     },
     "execution_count": 71,
     "metadata": {},
     "output_type": "execute_result"
    }
   ],
   "source": [
    "X3 = [1 + x * -0.5 for x in X1]\n",
    "correlation(X1, X3)"
   ]
  },
  {
   "cell_type": "markdown",
   "id": "e9daffd9",
   "metadata": {},
   "source": [
    "# $skew_{pop}(x,y) = \\frac{\\sum_{i=0}^{n-1}{(x_{i} - x_{mean})^3}} {n\\sigma^3}$\n",
    "\n",
    "\n",
    "$skew_{sample}(x,y) = \\frac{\\sum_{i=0}^{n-1}{(x_{i} - x_{mean})^3}} {(n-1)(n-2)\\sigma^3}$"
   ]
  },
  {
   "cell_type": "code",
   "execution_count": 39,
   "id": "c3d4c8d8",
   "metadata": {},
   "outputs": [
    {
     "data": {
      "text/plain": [
       "0.0"
      ]
     },
     "execution_count": 39,
     "metadata": {},
     "output_type": "execute_result"
    }
   ],
   "source": [
    "def skewness(lst, sample = True):\n",
    "    mean_ = mean(lst)\n",
    "    SD_ = SD(lst, sample)\n",
    "    skew = 0\n",
    "    n = len(lst)\n",
    "    for val in lst:\n",
    "        skew += (val - mean_) ** 3\n",
    "    skew = skew / (n * SD_ ** 3) if not sample else\\\n",
    "        n * skew / ((n-1) * (n-2) * SD_ ** 3)\n",
    "    return skew\n",
    "\n",
    "skewness(X1)"
   ]
  },
  {
   "cell_type": "code",
   "execution_count": 40,
   "id": "72c55410",
   "metadata": {},
   "outputs": [
    {
     "data": {
      "text/plain": [
       "-0.640224951200847"
      ]
     },
     "execution_count": 40,
     "metadata": {},
     "output_type": "execute_result"
    }
   ],
   "source": [
    "skewness(X2)"
   ]
  },
  {
   "cell_type": "markdown",
   "id": "c33b1e3b",
   "metadata": {},
   "source": [
    "$kurt_{pop} = \\frac{\\sum_{i=0}^{n-1} (x_{i} - x_{mean})^4} {n\\sigma^4}$\n",
    "\n",
    "$kurt_{sample} = \\frac{n(n+1)\\sum_{i=0}^{n-1} (x_{i} - x_{mean})^4} {(n - 1)(n - 2)( n - 3)\\sigma^4} - \\frac{3(n - 1)^2}{(n - 2)(n - 3)}$"
   ]
  },
  {
   "cell_type": "code",
   "execution_count": 47,
   "id": "0ceb871a",
   "metadata": {},
   "outputs": [
    {
     "data": {
      "text/plain": [
       "1.7757575757575759"
      ]
     },
     "execution_count": 47,
     "metadata": {},
     "output_type": "execute_result"
    }
   ],
   "source": [
    "def kurtosis(lst, sample = True):\n",
    "    mean_ = mean(lst)\n",
    "    kurt = 0\n",
    "    SD_ = SD(lst, sample)\n",
    "    n = len(lst)\n",
    "    for val in lst:\n",
    "        kurt += (val - mean_) ** 4\n",
    "    kurt = kurt / (n * SD_ ** 4) if  sample == False else  n * (n + 1) * kurt / \\\n",
    "    ((n - 1) * (n - 2) * (n - 3) * (SD_ ** 4)) - (3 *(n - 1) ** 2) / ((n - 2) * (n - 3))\n",
    "    \n",
    "    return kurt    \n",
    "    \n",
    "kurtosis(X1, sample = False)"
   ]
  },
  {
   "cell_type": "code",
   "execution_count": 49,
   "id": "e3397398",
   "metadata": {},
   "outputs": [
    {
     "data": {
      "text/plain": [
       "2.642505139871089"
      ]
     },
     "execution_count": 49,
     "metadata": {},
     "output_type": "execute_result"
    }
   ],
   "source": [
    "kurtosis(X2, sample = False)"
   ]
  },
  {
   "cell_type": "markdown",
   "id": "24fb5c4b",
   "metadata": {},
   "source": [
    "### Gather Statistics"
   ]
  },
  {
   "cell_type": "code",
   "execution_count": 68,
   "id": "2c4453e5",
   "metadata": {},
   "outputs": [
    {
     "name": "stdout",
     "output_type": "stream",
     "text": [
      "[3, 75]\n",
      "[6, 68]\n",
      "[9, 38]\n",
      "[12, 79]\n",
      "[15, 51]\n",
      "[18, 64]\n",
      "[21, 100]\n",
      "[2, 24]\n",
      "[27, 68]\n",
      "[27, 30]\n"
     ]
    },
    {
     "data": {
      "text/html": [
       "<div>\n",
       "<style scoped>\n",
       "    .dataframe tbody tr th:only-of-type {\n",
       "        vertical-align: middle;\n",
       "    }\n",
       "\n",
       "    .dataframe tbody tr th {\n",
       "        vertical-align: top;\n",
       "    }\n",
       "\n",
       "    .dataframe thead th {\n",
       "        text-align: right;\n",
       "    }\n",
       "</style>\n",
       "<table border=\"1\" class=\"dataframe\">\n",
       "  <thead>\n",
       "    <tr style=\"text-align: right;\">\n",
       "      <th></th>\n",
       "      <th>0</th>\n",
       "      <th>1</th>\n",
       "      <th>2</th>\n",
       "      <th>3</th>\n",
       "      <th>4</th>\n",
       "      <th>5</th>\n",
       "      <th>6</th>\n",
       "      <th>7</th>\n",
       "      <th>8</th>\n",
       "      <th>9</th>\n",
       "    </tr>\n",
       "  </thead>\n",
       "  <tbody>\n",
       "    <tr>\n",
       "      <th>meam</th>\n",
       "      <td>39.0</td>\n",
       "      <td>37.0</td>\n",
       "      <td>23.5</td>\n",
       "      <td>45.5</td>\n",
       "      <td>33.0</td>\n",
       "      <td>41.0</td>\n",
       "      <td>60.5</td>\n",
       "      <td>13.0</td>\n",
       "      <td>47.5</td>\n",
       "      <td>28.5</td>\n",
       "    </tr>\n",
       "    <tr>\n",
       "      <th>median</th>\n",
       "      <td>39.0</td>\n",
       "      <td>37.0</td>\n",
       "      <td>23.5</td>\n",
       "      <td>45.5</td>\n",
       "      <td>33.0</td>\n",
       "      <td>41.0</td>\n",
       "      <td>60.5</td>\n",
       "      <td>13.0</td>\n",
       "      <td>47.5</td>\n",
       "      <td>28.5</td>\n",
       "    </tr>\n",
       "    <tr>\n",
       "      <th>variance</th>\n",
       "      <td>2592.0</td>\n",
       "      <td>1922.0</td>\n",
       "      <td>420.5</td>\n",
       "      <td>2244.5</td>\n",
       "      <td>648.0</td>\n",
       "      <td>1058.0</td>\n",
       "      <td>3120.5</td>\n",
       "      <td>242.0</td>\n",
       "      <td>840.5</td>\n",
       "      <td>4.5</td>\n",
       "    </tr>\n",
       "    <tr>\n",
       "      <th>S.D.</th>\n",
       "      <td>36.0</td>\n",
       "      <td>31.0</td>\n",
       "      <td>14.5</td>\n",
       "      <td>33.5</td>\n",
       "      <td>18.0</td>\n",
       "      <td>23.0</td>\n",
       "      <td>39.5</td>\n",
       "      <td>11.0</td>\n",
       "      <td>20.5</td>\n",
       "      <td>1.5</td>\n",
       "    </tr>\n",
       "    <tr>\n",
       "      <th>Skewness</th>\n",
       "      <td>0.0</td>\n",
       "      <td>0.0</td>\n",
       "      <td>0.0</td>\n",
       "      <td>0.0</td>\n",
       "      <td>0.0</td>\n",
       "      <td>0.0</td>\n",
       "      <td>0.0</td>\n",
       "      <td>0.0</td>\n",
       "      <td>0.0</td>\n",
       "      <td>0.0</td>\n",
       "    </tr>\n",
       "    <tr>\n",
       "      <th>Kurtosis</th>\n",
       "      <td>1.0</td>\n",
       "      <td>1.0</td>\n",
       "      <td>1.0</td>\n",
       "      <td>1.0</td>\n",
       "      <td>1.0</td>\n",
       "      <td>1.0</td>\n",
       "      <td>1.0</td>\n",
       "      <td>1.0</td>\n",
       "      <td>1.0</td>\n",
       "      <td>1.0</td>\n",
       "    </tr>\n",
       "  </tbody>\n",
       "</table>\n",
       "</div>"
      ],
      "text/plain": [
       "               0       1      2       3      4       5       6      7      8  \\\n",
       "meam        39.0    37.0   23.5    45.5   33.0    41.0    60.5   13.0   47.5   \n",
       "median      39.0    37.0   23.5    45.5   33.0    41.0    60.5   13.0   47.5   \n",
       "variance  2592.0  1922.0  420.5  2244.5  648.0  1058.0  3120.5  242.0  840.5   \n",
       "S.D.        36.0    31.0   14.5    33.5   18.0    23.0    39.5   11.0   20.5   \n",
       "Skewness     0.0     0.0    0.0     0.0    0.0     0.0     0.0    0.0    0.0   \n",
       "Kurtosis     1.0     1.0    1.0     1.0    1.0     1.0     1.0    1.0    1.0   \n",
       "\n",
       "             9  \n",
       "meam      28.5  \n",
       "median    28.5  \n",
       "variance   4.5  \n",
       "S.D.       1.5  \n",
       "Skewness   0.0  \n",
       "Kurtosis   1.0  "
      ]
     },
     "execution_count": 68,
     "metadata": {},
     "output_type": "execute_result"
    }
   ],
   "source": [
    "import pandas as pd\n",
    "def gather_statistics(df, sample = False, round_dig = 3):\n",
    "    dct = {key:{} for key in df}\n",
    "    for key, val in df.items():\n",
    "        val.dropna(inplace = True)\n",
    "        dct[key][\"meam\"] = round(mean(val), round_dig)\n",
    "        dct[key][\"median\"] = round(median(val), round_dig)\n",
    "        dct[key][\"variance\"] = round(variance(val), round_dig)\n",
    "        dct[key][\"S.D.\"] = round(SD(val, sample), round_dig)\n",
    "        dct[key][\"Skewness\"] = round(skewness(val, sample), round_dig)\n",
    "        dct[key][\"Kurtosis\"] = round(kurtosis(val, sample), round_dig)\n",
    "    stats_df = pd.DataFrame(dct)\n",
    "    return stats_df\n",
    "    \n",
    "data = pd.DataFrame([X1, X2], index = [\"List1\", \"List2\"])\n",
    "gather_statistics(data, sample = False, round_dig = 2)"
   ]
  },
  {
   "cell_type": "markdown",
   "id": "844709d2",
   "metadata": {},
   "source": [
    "### Economic Freedom of the World"
   ]
  },
  {
   "cell_type": "code",
   "execution_count": 79,
   "id": "b2c5a92c",
   "metadata": {},
   "outputs": [
    {
     "data": {
      "text/html": [
       "<div>\n",
       "<style scoped>\n",
       "    .dataframe tbody tr th:only-of-type {\n",
       "        vertical-align: middle;\n",
       "    }\n",
       "\n",
       "    .dataframe tbody tr th {\n",
       "        vertical-align: top;\n",
       "    }\n",
       "\n",
       "    .dataframe thead th {\n",
       "        text-align: right;\n",
       "    }\n",
       "</style>\n",
       "<table border=\"1\" class=\"dataframe\">\n",
       "  <thead>\n",
       "    <tr style=\"text-align: right;\">\n",
       "      <th></th>\n",
       "      <th></th>\n",
       "      <th>Unnamed: 0</th>\n",
       "      <th>ISO Code 2</th>\n",
       "      <th>Countries</th>\n",
       "      <th>Economic Freedom Summary Index</th>\n",
       "      <th>Rank</th>\n",
       "      <th>Quartile</th>\n",
       "      <th>1A Government Consumption</th>\n",
       "      <th>data</th>\n",
       "      <th>1B  Transfers and subsidies</th>\n",
       "      <th>data.1</th>\n",
       "      <th>...</th>\n",
       "      <th>Unnamed: 101</th>\n",
       "      <th>Unnamed: 102</th>\n",
       "      <th>Unnamed: 103</th>\n",
       "      <th>Unnamed: 104</th>\n",
       "      <th>Unnamed: 105</th>\n",
       "      <th>Unnamed: 106</th>\n",
       "      <th>Unnamed: 107</th>\n",
       "      <th>Unnamed: 108</th>\n",
       "      <th>Unnamed: 109</th>\n",
       "      <th>Unnamed: 110</th>\n",
       "    </tr>\n",
       "    <tr>\n",
       "      <th>ISO Code 3</th>\n",
       "      <th>Year</th>\n",
       "      <th></th>\n",
       "      <th></th>\n",
       "      <th></th>\n",
       "      <th></th>\n",
       "      <th></th>\n",
       "      <th></th>\n",
       "      <th></th>\n",
       "      <th></th>\n",
       "      <th></th>\n",
       "      <th></th>\n",
       "      <th></th>\n",
       "      <th></th>\n",
       "      <th></th>\n",
       "      <th></th>\n",
       "      <th></th>\n",
       "      <th></th>\n",
       "      <th></th>\n",
       "      <th></th>\n",
       "      <th></th>\n",
       "      <th></th>\n",
       "      <th></th>\n",
       "    </tr>\n",
       "  </thead>\n",
       "  <tbody>\n",
       "    <tr>\n",
       "      <th>ALB</th>\n",
       "      <th>2020</th>\n",
       "      <td>NaN</td>\n",
       "      <td>AL</td>\n",
       "      <td>Albania</td>\n",
       "      <td>7.64</td>\n",
       "      <td>26.0</td>\n",
       "      <td>1.0</td>\n",
       "      <td>8.026471</td>\n",
       "      <td>12.710000</td>\n",
       "      <td>6.978202</td>\n",
       "      <td>11.590000</td>\n",
       "      <td>...</td>\n",
       "      <td>2011.00</td>\n",
       "      <td>2012.00</td>\n",
       "      <td>2013.00</td>\n",
       "      <td>2014.00</td>\n",
       "      <td>2015.00</td>\n",
       "      <td>2016.0</td>\n",
       "      <td>2017.0</td>\n",
       "      <td>2018.0</td>\n",
       "      <td>2019.00</td>\n",
       "      <td>2020.00</td>\n",
       "    </tr>\n",
       "    <tr>\n",
       "      <th>DZA</th>\n",
       "      <th>2020</th>\n",
       "      <td>NaN</td>\n",
       "      <td>DZ</td>\n",
       "      <td>Algeria</td>\n",
       "      <td>5.12</td>\n",
       "      <td>157.0</td>\n",
       "      <td>4.0</td>\n",
       "      <td>3.102941</td>\n",
       "      <td>29.450000</td>\n",
       "      <td>7.817129</td>\n",
       "      <td>8.511137</td>\n",
       "      <td>...</td>\n",
       "      <td>153.00</td>\n",
       "      <td>153.00</td>\n",
       "      <td>157.00</td>\n",
       "      <td>159.00</td>\n",
       "      <td>159.00</td>\n",
       "      <td>162.0</td>\n",
       "      <td>162.0</td>\n",
       "      <td>162.0</td>\n",
       "      <td>165.00</td>\n",
       "      <td>165.00</td>\n",
       "    </tr>\n",
       "    <tr>\n",
       "      <th>AGO</th>\n",
       "      <th>2020</th>\n",
       "      <td>NaN</td>\n",
       "      <td>AO</td>\n",
       "      <td>Angola</td>\n",
       "      <td>5.91</td>\n",
       "      <td>138.0</td>\n",
       "      <td>4.0</td>\n",
       "      <td>7.700000</td>\n",
       "      <td>13.820000</td>\n",
       "      <td>9.702997</td>\n",
       "      <td>1.590000</td>\n",
       "      <td>...</td>\n",
       "      <td>38.25</td>\n",
       "      <td>38.25</td>\n",
       "      <td>39.25</td>\n",
       "      <td>39.75</td>\n",
       "      <td>39.75</td>\n",
       "      <td>40.5</td>\n",
       "      <td>40.5</td>\n",
       "      <td>40.5</td>\n",
       "      <td>41.25</td>\n",
       "      <td>41.25</td>\n",
       "    </tr>\n",
       "    <tr>\n",
       "      <th>ARG</th>\n",
       "      <th>2020</th>\n",
       "      <td>NaN</td>\n",
       "      <td>AR</td>\n",
       "      <td>Argentina</td>\n",
       "      <td>4.87</td>\n",
       "      <td>161.0</td>\n",
       "      <td>4.0</td>\n",
       "      <td>5.985294</td>\n",
       "      <td>19.650000</td>\n",
       "      <td>6.493188</td>\n",
       "      <td>13.370000</td>\n",
       "      <td>...</td>\n",
       "      <td>114.75</td>\n",
       "      <td>114.75</td>\n",
       "      <td>117.75</td>\n",
       "      <td>119.25</td>\n",
       "      <td>119.25</td>\n",
       "      <td>121.5</td>\n",
       "      <td>121.5</td>\n",
       "      <td>121.5</td>\n",
       "      <td>123.75</td>\n",
       "      <td>123.75</td>\n",
       "    </tr>\n",
       "    <tr>\n",
       "      <th>ARM</th>\n",
       "      <th>2020</th>\n",
       "      <td>NaN</td>\n",
       "      <td>AM</td>\n",
       "      <td>Armenia</td>\n",
       "      <td>7.84</td>\n",
       "      <td>11.0</td>\n",
       "      <td>1.0</td>\n",
       "      <td>6.605882</td>\n",
       "      <td>17.540000</td>\n",
       "      <td>7.223433</td>\n",
       "      <td>10.690000</td>\n",
       "      <td>...</td>\n",
       "      <td>76.50</td>\n",
       "      <td>76.50</td>\n",
       "      <td>78.50</td>\n",
       "      <td>79.50</td>\n",
       "      <td>79.50</td>\n",
       "      <td>81.0</td>\n",
       "      <td>81.0</td>\n",
       "      <td>81.0</td>\n",
       "      <td>82.50</td>\n",
       "      <td>82.50</td>\n",
       "    </tr>\n",
       "    <tr>\n",
       "      <th>...</th>\n",
       "      <th>...</th>\n",
       "      <td>...</td>\n",
       "      <td>...</td>\n",
       "      <td>...</td>\n",
       "      <td>...</td>\n",
       "      <td>...</td>\n",
       "      <td>...</td>\n",
       "      <td>...</td>\n",
       "      <td>...</td>\n",
       "      <td>...</td>\n",
       "      <td>...</td>\n",
       "      <td>...</td>\n",
       "      <td>...</td>\n",
       "      <td>...</td>\n",
       "      <td>...</td>\n",
       "      <td>...</td>\n",
       "      <td>...</td>\n",
       "      <td>...</td>\n",
       "      <td>...</td>\n",
       "      <td>...</td>\n",
       "      <td>...</td>\n",
       "      <td>...</td>\n",
       "    </tr>\n",
       "    <tr>\n",
       "      <th>VEN</th>\n",
       "      <th>1970</th>\n",
       "      <td>NaN</td>\n",
       "      <td>VE</td>\n",
       "      <td>Venezuela, RB</td>\n",
       "      <td>7.19</td>\n",
       "      <td>13.0</td>\n",
       "      <td>1.0</td>\n",
       "      <td>6.602003</td>\n",
       "      <td>17.553191</td>\n",
       "      <td>9.827430</td>\n",
       "      <td>1.133333</td>\n",
       "      <td>...</td>\n",
       "      <td>NaN</td>\n",
       "      <td>NaN</td>\n",
       "      <td>NaN</td>\n",
       "      <td>NaN</td>\n",
       "      <td>NaN</td>\n",
       "      <td>NaN</td>\n",
       "      <td>NaN</td>\n",
       "      <td>NaN</td>\n",
       "      <td>NaN</td>\n",
       "      <td>NaN</td>\n",
       "    </tr>\n",
       "    <tr>\n",
       "      <th>VNM</th>\n",
       "      <th>1970</th>\n",
       "      <td>NaN</td>\n",
       "      <td>VN</td>\n",
       "      <td>Vietnam</td>\n",
       "      <td>NaN</td>\n",
       "      <td>NaN</td>\n",
       "      <td>NaN</td>\n",
       "      <td>NaN</td>\n",
       "      <td>NaN</td>\n",
       "      <td>NaN</td>\n",
       "      <td>NaN</td>\n",
       "      <td>...</td>\n",
       "      <td>NaN</td>\n",
       "      <td>NaN</td>\n",
       "      <td>NaN</td>\n",
       "      <td>NaN</td>\n",
       "      <td>NaN</td>\n",
       "      <td>NaN</td>\n",
       "      <td>NaN</td>\n",
       "      <td>NaN</td>\n",
       "      <td>NaN</td>\n",
       "      <td>NaN</td>\n",
       "    </tr>\n",
       "    <tr>\n",
       "      <th>YEM</th>\n",
       "      <th>1970</th>\n",
       "      <td>NaN</td>\n",
       "      <td>YE</td>\n",
       "      <td>Yemen, Rep.</td>\n",
       "      <td>NaN</td>\n",
       "      <td>NaN</td>\n",
       "      <td>NaN</td>\n",
       "      <td>NaN</td>\n",
       "      <td>NaN</td>\n",
       "      <td>NaN</td>\n",
       "      <td>NaN</td>\n",
       "      <td>...</td>\n",
       "      <td>NaN</td>\n",
       "      <td>NaN</td>\n",
       "      <td>NaN</td>\n",
       "      <td>NaN</td>\n",
       "      <td>NaN</td>\n",
       "      <td>NaN</td>\n",
       "      <td>NaN</td>\n",
       "      <td>NaN</td>\n",
       "      <td>NaN</td>\n",
       "      <td>NaN</td>\n",
       "    </tr>\n",
       "    <tr>\n",
       "      <th>ZMB</th>\n",
       "      <th>1970</th>\n",
       "      <td>NaN</td>\n",
       "      <td>ZM</td>\n",
       "      <td>Zambia</td>\n",
       "      <td>5.33</td>\n",
       "      <td>54.0</td>\n",
       "      <td>3.0</td>\n",
       "      <td>3.448131</td>\n",
       "      <td>28.276353</td>\n",
       "      <td>9.105430</td>\n",
       "      <td>3.783070</td>\n",
       "      <td>...</td>\n",
       "      <td>NaN</td>\n",
       "      <td>NaN</td>\n",
       "      <td>NaN</td>\n",
       "      <td>NaN</td>\n",
       "      <td>NaN</td>\n",
       "      <td>NaN</td>\n",
       "      <td>NaN</td>\n",
       "      <td>NaN</td>\n",
       "      <td>NaN</td>\n",
       "      <td>NaN</td>\n",
       "    </tr>\n",
       "    <tr>\n",
       "      <th>ZWE</th>\n",
       "      <th>1970</th>\n",
       "      <td>NaN</td>\n",
       "      <td>ZW</td>\n",
       "      <td>Zimbabwe</td>\n",
       "      <td>NaN</td>\n",
       "      <td>NaN</td>\n",
       "      <td>NaN</td>\n",
       "      <td>7.806922</td>\n",
       "      <td>13.456464</td>\n",
       "      <td>NaN</td>\n",
       "      <td>NaN</td>\n",
       "      <td>...</td>\n",
       "      <td>NaN</td>\n",
       "      <td>NaN</td>\n",
       "      <td>NaN</td>\n",
       "      <td>NaN</td>\n",
       "      <td>NaN</td>\n",
       "      <td>NaN</td>\n",
       "      <td>NaN</td>\n",
       "      <td>NaN</td>\n",
       "      <td>NaN</td>\n",
       "      <td>NaN</td>\n",
       "    </tr>\n",
       "  </tbody>\n",
       "</table>\n",
       "<p>4455 rows × 109 columns</p>\n",
       "</div>"
      ],
      "text/plain": [
       "                 Unnamed: 0 ISO Code 2      Countries  \\\n",
       "ISO Code 3 Year                                         \n",
       "ALB        2020         NaN         AL        Albania   \n",
       "DZA        2020         NaN         DZ        Algeria   \n",
       "AGO        2020         NaN         AO         Angola   \n",
       "ARG        2020         NaN         AR      Argentina   \n",
       "ARM        2020         NaN         AM        Armenia   \n",
       "...                     ...        ...            ...   \n",
       "VEN        1970         NaN         VE  Venezuela, RB   \n",
       "VNM        1970         NaN         VN        Vietnam   \n",
       "YEM        1970         NaN         YE    Yemen, Rep.   \n",
       "ZMB        1970         NaN         ZM         Zambia   \n",
       "ZWE        1970         NaN         ZW       Zimbabwe   \n",
       "\n",
       "                 Economic Freedom Summary Index   Rank  Quartile  \\\n",
       "ISO Code 3 Year                                                    \n",
       "ALB        2020                            7.64   26.0       1.0   \n",
       "DZA        2020                            5.12  157.0       4.0   \n",
       "AGO        2020                            5.91  138.0       4.0   \n",
       "ARG        2020                            4.87  161.0       4.0   \n",
       "ARM        2020                            7.84   11.0       1.0   \n",
       "...                                         ...    ...       ...   \n",
       "VEN        1970                            7.19   13.0       1.0   \n",
       "VNM        1970                             NaN    NaN       NaN   \n",
       "YEM        1970                             NaN    NaN       NaN   \n",
       "ZMB        1970                            5.33   54.0       3.0   \n",
       "ZWE        1970                             NaN    NaN       NaN   \n",
       "\n",
       "                 1A Government Consumption       data  \\\n",
       "ISO Code 3 Year                                         \n",
       "ALB        2020                   8.026471  12.710000   \n",
       "DZA        2020                   3.102941  29.450000   \n",
       "AGO        2020                   7.700000  13.820000   \n",
       "ARG        2020                   5.985294  19.650000   \n",
       "ARM        2020                   6.605882  17.540000   \n",
       "...                                    ...        ...   \n",
       "VEN        1970                   6.602003  17.553191   \n",
       "VNM        1970                        NaN        NaN   \n",
       "YEM        1970                        NaN        NaN   \n",
       "ZMB        1970                   3.448131  28.276353   \n",
       "ZWE        1970                   7.806922  13.456464   \n",
       "\n",
       "                 1B  Transfers and subsidies     data.1  ...  Unnamed: 101  \\\n",
       "ISO Code 3 Year                                          ...                 \n",
       "ALB        2020                     6.978202  11.590000  ...       2011.00   \n",
       "DZA        2020                     7.817129   8.511137  ...        153.00   \n",
       "AGO        2020                     9.702997   1.590000  ...         38.25   \n",
       "ARG        2020                     6.493188  13.370000  ...        114.75   \n",
       "ARM        2020                     7.223433  10.690000  ...         76.50   \n",
       "...                                      ...        ...  ...           ...   \n",
       "VEN        1970                     9.827430   1.133333  ...           NaN   \n",
       "VNM        1970                          NaN        NaN  ...           NaN   \n",
       "YEM        1970                          NaN        NaN  ...           NaN   \n",
       "ZMB        1970                     9.105430   3.783070  ...           NaN   \n",
       "ZWE        1970                          NaN        NaN  ...           NaN   \n",
       "\n",
       "                 Unnamed: 102  Unnamed: 103 Unnamed: 104  Unnamed: 105  \\\n",
       "ISO Code 3 Year                                                          \n",
       "ALB        2020       2012.00       2013.00      2014.00       2015.00   \n",
       "DZA        2020        153.00        157.00       159.00        159.00   \n",
       "AGO        2020         38.25         39.25        39.75         39.75   \n",
       "ARG        2020        114.75        117.75       119.25        119.25   \n",
       "ARM        2020         76.50         78.50        79.50         79.50   \n",
       "...                       ...           ...          ...           ...   \n",
       "VEN        1970           NaN           NaN          NaN           NaN   \n",
       "VNM        1970           NaN           NaN          NaN           NaN   \n",
       "YEM        1970           NaN           NaN          NaN           NaN   \n",
       "ZMB        1970           NaN           NaN          NaN           NaN   \n",
       "ZWE        1970           NaN           NaN          NaN           NaN   \n",
       "\n",
       "                Unnamed: 106  Unnamed: 107  Unnamed: 108  Unnamed: 109  \\\n",
       "ISO Code 3 Year                                                          \n",
       "ALB        2020       2016.0        2017.0        2018.0       2019.00   \n",
       "DZA        2020        162.0         162.0         162.0        165.00   \n",
       "AGO        2020         40.5          40.5          40.5         41.25   \n",
       "ARG        2020        121.5         121.5         121.5        123.75   \n",
       "ARM        2020         81.0          81.0          81.0         82.50   \n",
       "...                      ...           ...           ...           ...   \n",
       "VEN        1970          NaN           NaN           NaN           NaN   \n",
       "VNM        1970          NaN           NaN           NaN           NaN   \n",
       "YEM        1970          NaN           NaN           NaN           NaN   \n",
       "ZMB        1970          NaN           NaN           NaN           NaN   \n",
       "ZWE        1970          NaN           NaN           NaN           NaN   \n",
       "\n",
       "                 Unnamed: 110  \n",
       "ISO Code 3 Year                \n",
       "ALB        2020       2020.00  \n",
       "DZA        2020        165.00  \n",
       "AGO        2020         41.25  \n",
       "ARG        2020        123.75  \n",
       "ARM        2020         82.50  \n",
       "...                       ...  \n",
       "VEN        1970           NaN  \n",
       "VNM        1970           NaN  \n",
       "YEM        1970           NaN  \n",
       "ZMB        1970           NaN  \n",
       "ZWE        1970           NaN  \n",
       "\n",
       "[4455 rows x 109 columns]"
      ]
     },
     "execution_count": 79,
     "metadata": {},
     "output_type": "execute_result"
    }
   ],
   "source": [
    "filename = \"efotw-2022-master-index-data-for-researchers-iso.xlsx\"\n",
    "data = pd.read_excel(filename, header = [4],\n",
    "                    index_col = [3,1])\n",
    "data"
   ]
  },
  {
   "cell_type": "code",
   "execution_count": 82,
   "id": "cb746070",
   "metadata": {},
   "outputs": [
    {
     "data": {
      "text/html": [
       "<div>\n",
       "<style scoped>\n",
       "    .dataframe tbody tr th:only-of-type {\n",
       "        vertical-align: middle;\n",
       "    }\n",
       "\n",
       "    .dataframe tbody tr th {\n",
       "        vertical-align: top;\n",
       "    }\n",
       "\n",
       "    .dataframe thead th {\n",
       "        text-align: right;\n",
       "    }\n",
       "</style>\n",
       "<table border=\"1\" class=\"dataframe\">\n",
       "  <thead>\n",
       "    <tr style=\"text-align: right;\">\n",
       "      <th></th>\n",
       "      <th>Year</th>\n",
       "      <th>ISO_Code_2</th>\n",
       "      <th>ISO_Code_3</th>\n",
       "      <th>World Bank Region</th>\n",
       "      <th>World Bank Current Income Classification, 1990-present (L=Low income, LM=Lower middle income, UM=Upper middle income, H=High income)</th>\n",
       "      <th>Countries</th>\n",
       "      <th>Summary</th>\n",
       "      <th>Size of Government</th>\n",
       "      <th>Legal System and Property Rights</th>\n",
       "      <th>Sound Money</th>\n",
       "      <th>Freedom to Trade INternationally</th>\n",
       "      <th>Regulation</th>\n",
       "      <th>Standard Deviation of the 5 EFW Areas</th>\n",
       "    </tr>\n",
       "  </thead>\n",
       "  <tbody>\n",
       "    <tr>\n",
       "      <th>0</th>\n",
       "      <td>2020</td>\n",
       "      <td>AL</td>\n",
       "      <td>ALB</td>\n",
       "      <td>Europe &amp; Central Asia</td>\n",
       "      <td>UM</td>\n",
       "      <td>Albania</td>\n",
       "      <td>7.640000</td>\n",
       "      <td>7.817077</td>\n",
       "      <td>5.260351</td>\n",
       "      <td>9.788269</td>\n",
       "      <td>8.222499</td>\n",
       "      <td>7.112958</td>\n",
       "      <td>1.652742</td>\n",
       "    </tr>\n",
       "    <tr>\n",
       "      <th>1</th>\n",
       "      <td>2020</td>\n",
       "      <td>DZ</td>\n",
       "      <td>DZA</td>\n",
       "      <td>Middle East &amp; North Africa</td>\n",
       "      <td>LM</td>\n",
       "      <td>Algeria</td>\n",
       "      <td>5.120000</td>\n",
       "      <td>4.409943</td>\n",
       "      <td>4.131760</td>\n",
       "      <td>7.630287</td>\n",
       "      <td>3.639507</td>\n",
       "      <td>5.778953</td>\n",
       "      <td>1.613103</td>\n",
       "    </tr>\n",
       "    <tr>\n",
       "      <th>2</th>\n",
       "      <td>2020</td>\n",
       "      <td>AO</td>\n",
       "      <td>AGO</td>\n",
       "      <td>Sub-Saharan Africa</td>\n",
       "      <td>LM</td>\n",
       "      <td>Angola</td>\n",
       "      <td>5.910000</td>\n",
       "      <td>8.133385</td>\n",
       "      <td>3.705161</td>\n",
       "      <td>6.087996</td>\n",
       "      <td>5.373190</td>\n",
       "      <td>6.227545</td>\n",
       "      <td>1.598854</td>\n",
       "    </tr>\n",
       "    <tr>\n",
       "      <th>3</th>\n",
       "      <td>2020</td>\n",
       "      <td>AR</td>\n",
       "      <td>ARG</td>\n",
       "      <td>Latin America &amp; the Caribbean</td>\n",
       "      <td>UM</td>\n",
       "      <td>Argentina</td>\n",
       "      <td>4.870000</td>\n",
       "      <td>6.483768</td>\n",
       "      <td>4.796454</td>\n",
       "      <td>4.516018</td>\n",
       "      <td>3.086907</td>\n",
       "      <td>5.490538</td>\n",
       "      <td>1.254924</td>\n",
       "    </tr>\n",
       "    <tr>\n",
       "      <th>4</th>\n",
       "      <td>2020</td>\n",
       "      <td>AM</td>\n",
       "      <td>ARM</td>\n",
       "      <td>Europe &amp; Central Asia</td>\n",
       "      <td>UM</td>\n",
       "      <td>Armenia</td>\n",
       "      <td>7.840000</td>\n",
       "      <td>7.975292</td>\n",
       "      <td>6.236215</td>\n",
       "      <td>9.553009</td>\n",
       "      <td>7.692708</td>\n",
       "      <td>7.756333</td>\n",
       "      <td>1.178292</td>\n",
       "    </tr>\n",
       "    <tr>\n",
       "      <th>...</th>\n",
       "      <td>...</td>\n",
       "      <td>...</td>\n",
       "      <td>...</td>\n",
       "      <td>...</td>\n",
       "      <td>...</td>\n",
       "      <td>...</td>\n",
       "      <td>...</td>\n",
       "      <td>...</td>\n",
       "      <td>...</td>\n",
       "      <td>...</td>\n",
       "      <td>...</td>\n",
       "      <td>...</td>\n",
       "      <td>...</td>\n",
       "    </tr>\n",
       "    <tr>\n",
       "      <th>4450</th>\n",
       "      <td>1970</td>\n",
       "      <td>VE</td>\n",
       "      <td>VEN</td>\n",
       "      <td>Latin America &amp; the Caribbean</td>\n",
       "      <td>NaN</td>\n",
       "      <td>Venezuela, RB</td>\n",
       "      <td>7.242943</td>\n",
       "      <td>8.349529</td>\n",
       "      <td>5.003088</td>\n",
       "      <td>9.621851</td>\n",
       "      <td>7.895993</td>\n",
       "      <td>5.209592</td>\n",
       "      <td>2.028426</td>\n",
       "    </tr>\n",
       "    <tr>\n",
       "      <th>4451</th>\n",
       "      <td>1970</td>\n",
       "      <td>VN</td>\n",
       "      <td>VNM</td>\n",
       "      <td>East Asia &amp; Pacific</td>\n",
       "      <td>NaN</td>\n",
       "      <td>Vietnam</td>\n",
       "      <td>NaN</td>\n",
       "      <td>NaN</td>\n",
       "      <td>NaN</td>\n",
       "      <td>NaN</td>\n",
       "      <td>NaN</td>\n",
       "      <td>NaN</td>\n",
       "      <td>NaN</td>\n",
       "    </tr>\n",
       "    <tr>\n",
       "      <th>4452</th>\n",
       "      <td>1970</td>\n",
       "      <td>YE</td>\n",
       "      <td>YEM</td>\n",
       "      <td>Middle East &amp; North Africa</td>\n",
       "      <td>NaN</td>\n",
       "      <td>Yemen, Rep.</td>\n",
       "      <td>NaN</td>\n",
       "      <td>NaN</td>\n",
       "      <td>NaN</td>\n",
       "      <td>NaN</td>\n",
       "      <td>NaN</td>\n",
       "      <td>NaN</td>\n",
       "      <td>NaN</td>\n",
       "    </tr>\n",
       "    <tr>\n",
       "      <th>4453</th>\n",
       "      <td>1970</td>\n",
       "      <td>ZM</td>\n",
       "      <td>ZMB</td>\n",
       "      <td>Sub-Saharan Africa</td>\n",
       "      <td>NaN</td>\n",
       "      <td>Zambia</td>\n",
       "      <td>4.498763</td>\n",
       "      <td>5.374545</td>\n",
       "      <td>4.472812</td>\n",
       "      <td>5.137395</td>\n",
       "      <td>NaN</td>\n",
       "      <td>5.307952</td>\n",
       "      <td>0.412514</td>\n",
       "    </tr>\n",
       "    <tr>\n",
       "      <th>4454</th>\n",
       "      <td>1970</td>\n",
       "      <td>ZW</td>\n",
       "      <td>ZWE</td>\n",
       "      <td>Sub-Saharan Africa</td>\n",
       "      <td>NaN</td>\n",
       "      <td>Zimbabwe</td>\n",
       "      <td>NaN</td>\n",
       "      <td>NaN</td>\n",
       "      <td>NaN</td>\n",
       "      <td>NaN</td>\n",
       "      <td>NaN</td>\n",
       "      <td>NaN</td>\n",
       "      <td>NaN</td>\n",
       "    </tr>\n",
       "  </tbody>\n",
       "</table>\n",
       "<p>4455 rows × 13 columns</p>\n",
       "</div>"
      ],
      "text/plain": [
       "      Year ISO_Code_2 ISO_Code_3              World Bank Region  \\\n",
       "0     2020         AL        ALB          Europe & Central Asia   \n",
       "1     2020         DZ        DZA     Middle East & North Africa   \n",
       "2     2020         AO        AGO             Sub-Saharan Africa   \n",
       "3     2020         AR        ARG  Latin America & the Caribbean   \n",
       "4     2020         AM        ARM          Europe & Central Asia   \n",
       "...    ...        ...        ...                            ...   \n",
       "4450  1970         VE        VEN  Latin America & the Caribbean   \n",
       "4451  1970         VN        VNM            East Asia & Pacific   \n",
       "4452  1970         YE        YEM     Middle East & North Africa   \n",
       "4453  1970         ZM        ZMB             Sub-Saharan Africa   \n",
       "4454  1970         ZW        ZWE             Sub-Saharan Africa   \n",
       "\n",
       "     World Bank Current Income Classification, 1990-present (L=Low income, LM=Lower middle income, UM=Upper middle income, H=High income)  \\\n",
       "0                                                    UM                                                                                     \n",
       "1                                                    LM                                                                                     \n",
       "2                                                    LM                                                                                     \n",
       "3                                                    UM                                                                                     \n",
       "4                                                    UM                                                                                     \n",
       "...                                                 ...                                                                                     \n",
       "4450                                                NaN                                                                                     \n",
       "4451                                                NaN                                                                                     \n",
       "4452                                                NaN                                                                                     \n",
       "4453                                                NaN                                                                                     \n",
       "4454                                                NaN                                                                                     \n",
       "\n",
       "          Countries   Summary  Size of Government  \\\n",
       "0           Albania  7.640000            7.817077   \n",
       "1           Algeria  5.120000            4.409943   \n",
       "2            Angola  5.910000            8.133385   \n",
       "3         Argentina  4.870000            6.483768   \n",
       "4           Armenia  7.840000            7.975292   \n",
       "...             ...       ...                 ...   \n",
       "4450  Venezuela, RB  7.242943            8.349529   \n",
       "4451        Vietnam       NaN                 NaN   \n",
       "4452    Yemen, Rep.       NaN                 NaN   \n",
       "4453         Zambia  4.498763            5.374545   \n",
       "4454       Zimbabwe       NaN                 NaN   \n",
       "\n",
       "      Legal System and Property Rights  Sound Money  \\\n",
       "0                             5.260351     9.788269   \n",
       "1                             4.131760     7.630287   \n",
       "2                             3.705161     6.087996   \n",
       "3                             4.796454     4.516018   \n",
       "4                             6.236215     9.553009   \n",
       "...                                ...          ...   \n",
       "4450                          5.003088     9.621851   \n",
       "4451                               NaN          NaN   \n",
       "4452                               NaN          NaN   \n",
       "4453                          4.472812     5.137395   \n",
       "4454                               NaN          NaN   \n",
       "\n",
       "      Freedom to Trade INternationally  Regulation  \\\n",
       "0                             8.222499    7.112958   \n",
       "1                             3.639507    5.778953   \n",
       "2                             5.373190    6.227545   \n",
       "3                             3.086907    5.490538   \n",
       "4                             7.692708    7.756333   \n",
       "...                                ...         ...   \n",
       "4450                          7.895993    5.209592   \n",
       "4451                               NaN         NaN   \n",
       "4452                               NaN         NaN   \n",
       "4453                               NaN    5.307952   \n",
       "4454                               NaN         NaN   \n",
       "\n",
       "      Standard Deviation of the 5 EFW Areas  \n",
       "0                                  1.652742  \n",
       "1                                  1.613103  \n",
       "2                                  1.598854  \n",
       "3                                  1.254924  \n",
       "4                                  1.178292  \n",
       "...                                     ...  \n",
       "4450                               2.028426  \n",
       "4451                                    NaN  \n",
       "4452                                    NaN  \n",
       "4453                               0.412514  \n",
       "4454                                    NaN  \n",
       "\n",
       "[4455 rows x 13 columns]"
      ]
     },
     "execution_count": 82,
     "metadata": {},
     "output_type": "execute_result"
    }
   ],
   "source": [
    "data = pd.read_excel(filename,\n",
    "                   sheet_name = \"EFW Panel Data 2022 Report\")\n",
    "rename = {\"Panel Data Summary Index\":\"Summary\",\n",
    "         \"Area 1\":\"Size of Government\",\n",
    "         \"Area 2\":\"Legal System and Property Rights\",\n",
    "         \"Area 3\":\"Sound Money\",\n",
    "         \"Area 4\":\"Freedom to Trade INternationally\",\n",
    "         \"Area 5\":\"Regulation\"}\n",
    "data.rename(columns = rename)"
   ]
  }
 ],
 "metadata": {
  "kernelspec": {
   "display_name": "Python 3 (ipykernel)",
   "language": "python",
   "name": "python3"
  },
  "language_info": {
   "codemirror_mode": {
    "name": "ipython",
    "version": 3
   },
   "file_extension": ".py",
   "mimetype": "text/x-python",
   "name": "python",
   "nbconvert_exporter": "python",
   "pygments_lexer": "ipython3",
   "version": "3.9.13"
  }
 },
 "nbformat": 4,
 "nbformat_minor": 5
}
