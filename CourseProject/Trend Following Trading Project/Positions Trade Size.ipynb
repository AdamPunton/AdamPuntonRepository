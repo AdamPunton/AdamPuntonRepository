{
 "cells": [
  {
   "cell_type": "code",
   "execution_count": 2,
   "id": "a461badf",
   "metadata": {},
   "outputs": [],
   "source": [
    "account_size = 100000\n",
    "risk_tolerance = 0.02"
   ]
  },
  {
   "cell_type": "markdown",
   "id": "f0097e03",
   "metadata": {},
   "source": [
    "# Futures "
   ]
  },
  {
   "cell_type": "code",
   "execution_count": 3,
   "id": "ee6e3997",
   "metadata": {},
   "outputs": [
    {
     "name": "stdout",
     "output_type": "stream",
     "text": [
      "[*********************100%***********************]  1 of 1 completed\n",
      "Contracts to buy: 1.0\n",
      "Average range of the past 20 days: 21.65\n",
      "Daily risk: 1082.5\n"
     ]
    }
   ],
   "source": [
    "import datetime\n",
    "import yfinance as yf\n",
    "\n",
    "account_size = 100000\n",
    "risk_tolerance = 0.02\n",
    "\n",
    "start_date = '2023-01-01'\n",
    "end_date = datetime.datetime.now()\n",
    "\n",
    "ticker = \"ZS=F\"\n",
    "value_per_tick = 12.5\n",
    "tick_per_cent = 4\n",
    "\n",
    "results = []\n",
    "\n",
    "ticker_data = yf.download(ticker, start=start_date, end=end_date)\n",
    "\n",
    "ticker_data[\"Range\"] = ticker_data[\"High\"] - ticker_data[\"Low\"]\n",
    "ticker_data[\"20_day_avg_range\"] = ticker_data[\"Range\"].rolling(window=20).mean()\n",
    "\n",
    "latest_range = ticker_data[\"Range\"][-1]\n",
    "average_range = ticker_data[\"20_day_avg_range\"][-1]\n",
    "\n",
    "daily_risk = average_range * value_per_tick * tick_per_cent\n",
    "\n",
    "position_cost = 3410\n",
    "daily_volatility = daily_risk\n",
    "risk_account_size = account_size * risk_tolerance\n",
    "contract_to_buy = risk_account_size / (2 * daily_risk)\n",
    "print(\"Contracts to buy:\", contract_to_buy.round(0))\n",
    "\n",
    "print(\"Average range of the past 20 days:\", average_range)\n",
    "print(\"Daily risk:\", daily_risk)\n"
   ]
  },
  {
   "cell_type": "code",
   "execution_count": 3,
   "id": "ceeb26fa",
   "metadata": {},
   "outputs": [
    {
     "name": "stdout",
     "output_type": "stream",
     "text": [
      "Contracts to buy: 1.0\n"
     ]
    }
   ],
   "source": [
    "position_cost = 3410\n",
    "daily_volatility = daily_risk\n",
    "risk_account_size = account_size * risk_tolerance\n",
    "contract_to_buy = risk_account_size / (2 * daily_risk)\n",
    "print(\"Contracts to buy:\", contract_to_buy.round(0))"
   ]
  },
  {
   "cell_type": "markdown",
   "id": "9e694bf2",
   "metadata": {},
   "source": [
    "# Stocks"
   ]
  },
  {
   "cell_type": "code",
   "execution_count": 4,
   "id": "ae03c7b6",
   "metadata": {},
   "outputs": [
    {
     "name": "stdout",
     "output_type": "stream",
     "text": [
      "[*********************100%***********************]  1 of 1 completed\n",
      "Average range of the past 20 days: 6.7910011291503904\n",
      "Daily risk: 6.7910011291503904\n"
     ]
    }
   ],
   "source": [
    "start_date = '2023-01-01'\n",
    "end_date = datetime.datetime.now()\n",
    "\n",
    "ticker = \"TSLA\"\n",
    "value_per_tick = 1\n",
    "\n",
    "results = []\n",
    "\n",
    "ticker_data = yf.download(ticker, start=start_date, end=end_date)\n",
    "\n",
    "ticker_data[\"Range\"] = ticker_data[\"High\"] - ticker_data[\"Low\"]\n",
    "ticker_data[\"20_day_avg_range\"] = ticker_data[\"Range\"].rolling(window=20).mean()\n",
    "\n",
    "latest_range = ticker_data[\"Range\"][-1]\n",
    "average_range = ticker_data[\"20_day_avg_range\"][-1]\n",
    "\n",
    "daily_risk = average_range\n",
    "\n",
    "print(\"Average range of the past 20 days:\", average_range)\n",
    "print(\"Daily risk:\", daily_risk)"
   ]
  },
  {
   "cell_type": "code",
   "execution_count": 6,
   "id": "3b06340d",
   "metadata": {},
   "outputs": [
    {
     "name": "stdout",
     "output_type": "stream",
     "text": [
      "Contracts to buy: 147.0\n"
     ]
    }
   ],
   "source": [
    "position_cost = ticker_data[\"Close\"]\n",
    "daily_volatility = daily_risk\n",
    "risk_account_size = account_size * risk_tolerance\n",
    "contract_to_buy = risk_account_size / (2 * daily_risk)\n",
    "print(\"Contracts to buy:\", contract_to_buy.round(0))\n"
   ]
  },
  {
   "cell_type": "code",
   "execution_count": null,
   "id": "da545b19",
   "metadata": {},
   "outputs": [],
   "source": []
  }
 ],
 "metadata": {
  "kernelspec": {
   "display_name": "Python 3 (ipykernel)",
   "language": "python",
   "name": "python3"
  },
  "language_info": {
   "codemirror_mode": {
    "name": "ipython",
    "version": 3
   },
   "file_extension": ".py",
   "mimetype": "text/x-python",
   "name": "python",
   "nbconvert_exporter": "python",
   "pygments_lexer": "ipython3",
   "version": "3.9.13"
  }
 },
 "nbformat": 4,
 "nbformat_minor": 5
}
