{
 "cells": [
  {
   "cell_type": "code",
   "execution_count": 1,
   "id": "be81672b",
   "metadata": {},
   "outputs": [],
   "source": [
    "import pandas as pd"
   ]
  },
  {
   "cell_type": "code",
   "execution_count": 18,
   "id": "63a974a7",
   "metadata": {
    "scrolled": true
   },
   "outputs": [
    {
     "data": {
      "text/html": [
       "<div>\n",
       "<style scoped>\n",
       "    .dataframe tbody tr th:only-of-type {\n",
       "        vertical-align: middle;\n",
       "    }\n",
       "\n",
       "    .dataframe tbody tr th {\n",
       "        vertical-align: top;\n",
       "    }\n",
       "\n",
       "    .dataframe thead th {\n",
       "        text-align: right;\n",
       "    }\n",
       "</style>\n",
       "<table border=\"1\" class=\"dataframe\">\n",
       "  <thead>\n",
       "    <tr style=\"text-align: right;\">\n",
       "      <th></th>\n",
       "      <th>Game</th>\n",
       "      <th>Open</th>\n",
       "      <th>Best Odds</th>\n",
       "      <th>Pointsbet</th>\n",
       "      <th>BetMGM</th>\n",
       "      <th>Caesars</th>\n",
       "      <th>Fandual</th>\n",
       "      <th>Draftkings</th>\n",
       "      <th>BetRivers</th>\n",
       "      <th>BetRivers 2</th>\n",
       "      <th>Unibet</th>\n",
       "      <th>bet365</th>\n",
       "    </tr>\n",
       "  </thead>\n",
       "  <tbody>\n",
       "    <tr>\n",
       "      <th>0</th>\n",
       "      <td>Bucks</td>\n",
       "      <td>-275.0</td>\n",
       "      <td>-315.0</td>\n",
       "      <td>-325.0</td>\n",
       "      <td>-350.0</td>\n",
       "      <td>-335.0</td>\n",
       "      <td>-355.0</td>\n",
       "      <td>-330.0</td>\n",
       "      <td>-335.0</td>\n",
       "      <td>-335.0</td>\n",
       "      <td>-335.0</td>\n",
       "      <td>-315.0</td>\n",
       "    </tr>\n",
       "    <tr>\n",
       "      <th>1</th>\n",
       "      <td>Bulls</td>\n",
       "      <td>230.0</td>\n",
       "      <td>285.0</td>\n",
       "      <td>250.0</td>\n",
       "      <td>260.0</td>\n",
       "      <td>260.0</td>\n",
       "      <td>285.0</td>\n",
       "      <td>275.0</td>\n",
       "      <td>265.0</td>\n",
       "      <td>270.0</td>\n",
       "      <td>270.0</td>\n",
       "      <td>255.0</td>\n",
       "    </tr>\n",
       "    <tr>\n",
       "      <th>2</th>\n",
       "      <td>NaN</td>\n",
       "      <td>NaN</td>\n",
       "      <td>NaN</td>\n",
       "      <td>NaN</td>\n",
       "      <td>NaN</td>\n",
       "      <td>NaN</td>\n",
       "      <td>NaN</td>\n",
       "      <td>NaN</td>\n",
       "      <td>NaN</td>\n",
       "      <td>NaN</td>\n",
       "      <td>NaN</td>\n",
       "      <td>NaN</td>\n",
       "    </tr>\n",
       "    <tr>\n",
       "      <th>3</th>\n",
       "      <td>100</td>\n",
       "      <td>NaN</td>\n",
       "      <td>NaN</td>\n",
       "      <td>NaN</td>\n",
       "      <td>NaN</td>\n",
       "      <td>NaN</td>\n",
       "      <td>NaN</td>\n",
       "      <td>NaN</td>\n",
       "      <td>NaN</td>\n",
       "      <td>NaN</td>\n",
       "      <td>NaN</td>\n",
       "      <td>NaN</td>\n",
       "    </tr>\n",
       "    <tr>\n",
       "      <th>4</th>\n",
       "      <td>Final</td>\n",
       "      <td>NaN</td>\n",
       "      <td>NaN</td>\n",
       "      <td>NaN</td>\n",
       "      <td>NaN</td>\n",
       "      <td>NaN</td>\n",
       "      <td>NaN</td>\n",
       "      <td>NaN</td>\n",
       "      <td>NaN</td>\n",
       "      <td>NaN</td>\n",
       "      <td>NaN</td>\n",
       "      <td>NaN</td>\n",
       "    </tr>\n",
       "    <tr>\n",
       "      <th>5</th>\n",
       "      <td>Wizards</td>\n",
       "      <td>145.0</td>\n",
       "      <td>145.0</td>\n",
       "      <td>135.0</td>\n",
       "      <td>140.0</td>\n",
       "      <td>122.0</td>\n",
       "      <td>134.0</td>\n",
       "      <td>145.0</td>\n",
       "      <td>130.0</td>\n",
       "      <td>132.0</td>\n",
       "      <td>132.0</td>\n",
       "      <td>140.0</td>\n",
       "    </tr>\n",
       "    <tr>\n",
       "      <th>6</th>\n",
       "      <td>Timberwolves</td>\n",
       "      <td>-180.0</td>\n",
       "      <td>-145.0</td>\n",
       "      <td>-160.0</td>\n",
       "      <td>-165.0</td>\n",
       "      <td>-145.0</td>\n",
       "      <td>-158.0</td>\n",
       "      <td>-170.0</td>\n",
       "      <td>-159.0</td>\n",
       "      <td>-157.0</td>\n",
       "      <td>-157.0</td>\n",
       "      <td>-160.0</td>\n",
       "    </tr>\n",
       "    <tr>\n",
       "      <th>7</th>\n",
       "      <td>NaN</td>\n",
       "      <td>NaN</td>\n",
       "      <td>NaN</td>\n",
       "      <td>NaN</td>\n",
       "      <td>NaN</td>\n",
       "      <td>NaN</td>\n",
       "      <td>NaN</td>\n",
       "      <td>NaN</td>\n",
       "      <td>NaN</td>\n",
       "      <td>NaN</td>\n",
       "      <td>NaN</td>\n",
       "      <td>NaN</td>\n",
       "    </tr>\n",
       "    <tr>\n",
       "      <th>8</th>\n",
       "      <td>106</td>\n",
       "      <td>NaN</td>\n",
       "      <td>NaN</td>\n",
       "      <td>NaN</td>\n",
       "      <td>NaN</td>\n",
       "      <td>NaN</td>\n",
       "      <td>NaN</td>\n",
       "      <td>NaN</td>\n",
       "      <td>NaN</td>\n",
       "      <td>NaN</td>\n",
       "      <td>NaN</td>\n",
       "      <td>NaN</td>\n",
       "    </tr>\n",
       "    <tr>\n",
       "      <th>9</th>\n",
       "      <td>Final</td>\n",
       "      <td>NaN</td>\n",
       "      <td>NaN</td>\n",
       "      <td>NaN</td>\n",
       "      <td>NaN</td>\n",
       "      <td>NaN</td>\n",
       "      <td>NaN</td>\n",
       "      <td>NaN</td>\n",
       "      <td>NaN</td>\n",
       "      <td>NaN</td>\n",
       "      <td>NaN</td>\n",
       "      <td>NaN</td>\n",
       "    </tr>\n",
       "    <tr>\n",
       "      <th>10</th>\n",
       "      <td>Clippers</td>\n",
       "      <td>-130.0</td>\n",
       "      <td>-108.0</td>\n",
       "      <td>-110.0</td>\n",
       "      <td>-110.0</td>\n",
       "      <td>-115.0</td>\n",
       "      <td>-124.0</td>\n",
       "      <td>-115.0</td>\n",
       "      <td>-109.0</td>\n",
       "      <td>-108.0</td>\n",
       "      <td>-108.0</td>\n",
       "      <td>-110.0</td>\n",
       "    </tr>\n",
       "    <tr>\n",
       "      <th>11</th>\n",
       "      <td>Suns</td>\n",
       "      <td>107.0</td>\n",
       "      <td>106.0</td>\n",
       "      <td>-110.0</td>\n",
       "      <td>-110.0</td>\n",
       "      <td>-105.0</td>\n",
       "      <td>106.0</td>\n",
       "      <td>-105.0</td>\n",
       "      <td>-112.0</td>\n",
       "      <td>-110.0</td>\n",
       "      <td>-110.0</td>\n",
       "      <td>-110.0</td>\n",
       "    </tr>\n",
       "    <tr>\n",
       "      <th>12</th>\n",
       "      <td>NaN</td>\n",
       "      <td>NaN</td>\n",
       "      <td>NaN</td>\n",
       "      <td>NaN</td>\n",
       "      <td>NaN</td>\n",
       "      <td>NaN</td>\n",
       "      <td>NaN</td>\n",
       "      <td>NaN</td>\n",
       "      <td>NaN</td>\n",
       "      <td>NaN</td>\n",
       "      <td>NaN</td>\n",
       "      <td>NaN</td>\n",
       "    </tr>\n",
       "    <tr>\n",
       "      <th>13</th>\n",
       "      <td>107</td>\n",
       "      <td>NaN</td>\n",
       "      <td>NaN</td>\n",
       "      <td>NaN</td>\n",
       "      <td>NaN</td>\n",
       "      <td>NaN</td>\n",
       "      <td>NaN</td>\n",
       "      <td>NaN</td>\n",
       "      <td>NaN</td>\n",
       "      <td>NaN</td>\n",
       "      <td>NaN</td>\n",
       "      <td>NaN</td>\n",
       "    </tr>\n",
       "  </tbody>\n",
       "</table>\n",
       "</div>"
      ],
      "text/plain": [
       "            Game   Open  Best Odds  Pointsbet  BetMGM  Caesars  Fandual  \\\n",
       "0          Bucks -275.0     -315.0     -325.0  -350.0   -335.0   -355.0   \n",
       "1          Bulls  230.0      285.0      250.0   260.0    260.0    285.0   \n",
       "2            NaN    NaN        NaN        NaN     NaN      NaN      NaN   \n",
       "3            100    NaN        NaN        NaN     NaN      NaN      NaN   \n",
       "4          Final    NaN        NaN        NaN     NaN      NaN      NaN   \n",
       "5        Wizards  145.0      145.0      135.0   140.0    122.0    134.0   \n",
       "6   Timberwolves -180.0     -145.0     -160.0  -165.0   -145.0   -158.0   \n",
       "7            NaN    NaN        NaN        NaN     NaN      NaN      NaN   \n",
       "8            106    NaN        NaN        NaN     NaN      NaN      NaN   \n",
       "9          Final    NaN        NaN        NaN     NaN      NaN      NaN   \n",
       "10      Clippers -130.0     -108.0     -110.0  -110.0   -115.0   -124.0   \n",
       "11          Suns  107.0      106.0     -110.0  -110.0   -105.0    106.0   \n",
       "12           NaN    NaN        NaN        NaN     NaN      NaN      NaN   \n",
       "13           107    NaN        NaN        NaN     NaN      NaN      NaN   \n",
       "\n",
       "    Draftkings  BetRivers  BetRivers 2  Unibet  bet365  \n",
       "0       -330.0     -335.0       -335.0  -335.0  -315.0  \n",
       "1        275.0      265.0        270.0   270.0   255.0  \n",
       "2          NaN        NaN          NaN     NaN     NaN  \n",
       "3          NaN        NaN          NaN     NaN     NaN  \n",
       "4          NaN        NaN          NaN     NaN     NaN  \n",
       "5        145.0      130.0        132.0   132.0   140.0  \n",
       "6       -170.0     -159.0       -157.0  -157.0  -160.0  \n",
       "7          NaN        NaN          NaN     NaN     NaN  \n",
       "8          NaN        NaN          NaN     NaN     NaN  \n",
       "9          NaN        NaN          NaN     NaN     NaN  \n",
       "10      -115.0     -109.0       -108.0  -108.0  -110.0  \n",
       "11      -105.0     -112.0       -110.0  -110.0  -110.0  \n",
       "12         NaN        NaN          NaN     NaN     NaN  \n",
       "13         NaN        NaN          NaN     NaN     NaN  "
      ]
     },
     "execution_count": 18,
     "metadata": {},
     "output_type": "execute_result"
    }
   ],
   "source": [
    "filename = \"Different Sportbooks.xlsx\"\n",
    "data = pd.read_excel(filename)\n",
    "\n",
    "rename = {\"SCHEDULED\":\"Game\",\n",
    "         \"OPEN\":\"Open\",\n",
    "         \"BEST ODDS\":\"Best Odds\",\n",
    "         \"Unnamed: 3\":\"Pointsbet\",\n",
    "         \"Unnamed: 4\":\"BetMGM\",\n",
    "         \"Unnamed: 5\":\"Caesars\",\n",
    "         \"Unnamed: 6\":\"Fandual\",\n",
    "         \"Unnamed: 7\":\"Draftkings\",\n",
    "         \"Unnamed: 8\":\"BetRivers\",\n",
    "         \"Unnamed: 9\":\"BetRivers 2\",\n",
    "         \"Unnamed: 10\":\"Unibet\",\n",
    "         \"Unnamed: 11\":\"bet365\",}\n",
    "data.rename(columns = rename, inplace = True)\n",
    "data"
   ]
  },
  {
   "cell_type": "code",
   "execution_count": 37,
   "id": "49477583",
   "metadata": {
    "scrolled": false
   },
   "outputs": [
    {
     "name": "stdout",
     "output_type": "stream",
     "text": [
      "            Game   Open  Best Odds  Pointsbet  BetMGM  Caesars  Fandual  \\\n",
      "0          Bucks -275.0     -315.0     -325.0  -350.0   -335.0   -355.0   \n",
      "1          Bulls  230.0      285.0      250.0   260.0    260.0    285.0   \n",
      "5        Wizards  145.0      145.0      135.0   140.0    122.0    134.0   \n",
      "6   Timberwolves -180.0     -145.0     -160.0  -165.0   -145.0   -158.0   \n",
      "10      Clippers -130.0     -108.0     -110.0  -110.0   -115.0   -124.0   \n",
      "11          Suns  107.0      106.0     -110.0  -110.0   -105.0    106.0   \n",
      "\n",
      "    Draftkings  BetRivers  BetRivers 2  Unibet  bet365  \n",
      "0       -330.0     -335.0       -335.0  -335.0  -315.0  \n",
      "1        275.0      265.0        270.0   270.0   255.0  \n",
      "5        145.0      130.0        132.0   132.0   140.0  \n",
      "6       -170.0     -159.0       -157.0  -157.0  -160.0  \n",
      "10      -115.0     -109.0       -108.0  -108.0  -110.0  \n",
      "11      -105.0     -112.0       -110.0  -110.0  -110.0  \n"
     ]
    }
   ],
   "source": [
    "df = pd.DataFrame(data)\n",
    "df = df.dropna()\n",
    "print(df)"
   ]
  },
  {
   "cell_type": "code",
   "execution_count": 21,
   "id": "aa588ddf",
   "metadata": {
    "scrolled": true
   },
   "outputs": [
    {
     "name": "stdout",
     "output_type": "stream",
     "text": [
      "    Game   Open  Best Odds  Pointsbet  BetMGM  Caesars  Fandual  Draftkings  \\\n",
      "0  Bucks -275.0     -315.0     -325.0  -350.0   -335.0   -355.0      -330.0   \n",
      "1  Bulls  230.0      285.0      250.0   260.0    260.0    285.0       275.0   \n",
      "\n",
      "   BetRivers  BetRivers 2  Unibet  bet365  \n",
      "0     -335.0       -335.0  -335.0  -315.0  \n",
      "1      265.0        270.0   270.0   255.0  \n"
     ]
    }
   ],
   "source": [
    "df_Bucks = df.iloc[0:2, :]\n",
    "print(df_Bucks)"
   ]
  },
  {
   "cell_type": "code",
   "execution_count": 22,
   "id": "a63c2119",
   "metadata": {},
   "outputs": [
    {
     "data": {
      "text/plain": [
       "array([['Bucks', -275.0, -315.0, -325.0, -350.0, -335.0, -355.0, -330.0,\n",
       "        -335.0, -335.0, -335.0, -315.0],\n",
       "       ['Bulls', 230.0, 285.0, 250.0, 260.0, 260.0, 285.0, 275.0, 265.0,\n",
       "        270.0, 270.0, 255.0]], dtype=object)"
      ]
     },
     "execution_count": 22,
     "metadata": {},
     "output_type": "execute_result"
    }
   ],
   "source": [
    "df_Bucks.values"
   ]
  },
  {
   "cell_type": "code",
   "execution_count": 23,
   "id": "0d6af835",
   "metadata": {},
   "outputs": [
    {
     "data": {
      "text/plain": [
       "Game           BucksBulls\n",
       "Open                -45.0\n",
       "Best Odds           -30.0\n",
       "Pointsbet           -75.0\n",
       "BetMGM              -90.0\n",
       "Caesars             -75.0\n",
       "Fandual             -70.0\n",
       "Draftkings          -55.0\n",
       "BetRivers           -70.0\n",
       "BetRivers 2         -65.0\n",
       "Unibet              -65.0\n",
       "bet365              -60.0\n",
       "dtype: object"
      ]
     },
     "execution_count": 23,
     "metadata": {},
     "output_type": "execute_result"
    }
   ],
   "source": [
    "Bucks_bet = df.iloc[0] + df.iloc[1]\n",
    "Bucks_bet"
   ]
  },
  {
   "cell_type": "code",
   "execution_count": 24,
   "id": "2ae88095",
   "metadata": {},
   "outputs": [
    {
     "data": {
      "text/plain": [
       "Open          -45.0\n",
       "Best Odds     -30.0\n",
       "Pointsbet     -75.0\n",
       "BetMGM        -90.0\n",
       "Caesars       -75.0\n",
       "Fandual       -70.0\n",
       "Draftkings    -55.0\n",
       "BetRivers     -70.0\n",
       "BetRivers 2   -65.0\n",
       "Unibet        -65.0\n",
       "bet365        -60.0\n",
       "dtype: object"
      ]
     },
     "execution_count": 24,
     "metadata": {},
     "output_type": "execute_result"
    }
   ],
   "source": [
    "Bucks_bet = Bucks_bet.drop(Bucks_bet.index[0])\n",
    "Bucks_bet"
   ]
  },
  {
   "cell_type": "code",
   "execution_count": 25,
   "id": "aa5b6782",
   "metadata": {},
   "outputs": [
    {
     "data": {
      "text/plain": [
       "array([-45.0, -30.0, -75.0, -90.0, -75.0, -70.0, -55.0, -70.0, -65.0,\n",
       "       -65.0, -60.0], dtype=object)"
      ]
     },
     "execution_count": 25,
     "metadata": {},
     "output_type": "execute_result"
    }
   ],
   "source": [
    "Bucks_bet.values"
   ]
  },
  {
   "cell_type": "code",
   "execution_count": 26,
   "id": "6554148b",
   "metadata": {},
   "outputs": [
    {
     "data": {
      "text/plain": [
       "Open          -45.0\n",
       "Best Odds     -30.0\n",
       "Pointsbet     -75.0\n",
       "BetMGM        -90.0\n",
       "Caesars       -75.0\n",
       "Fandual       -70.0\n",
       "Draftkings    -55.0\n",
       "BetRivers     -70.0\n",
       "BetRivers 2   -65.0\n",
       "Unibet        -65.0\n",
       "bet365        -60.0\n",
       "dtype: float64"
      ]
     },
     "execution_count": 26,
     "metadata": {},
     "output_type": "execute_result"
    }
   ],
   "source": [
    "Bucks_float = Bucks_bet.astype(float)\n",
    "Bucks_float"
   ]
  },
  {
   "cell_type": "code",
   "execution_count": 35,
   "id": "b77d432d",
   "metadata": {},
   "outputs": [
    {
     "data": {
      "image/png": "[encoded data removed]",
      "text/plain": [
       "<Figure size 1100x500 with 1 Axes>"
      ]
     },
     "metadata": {},
     "output_type": "display_data"
    }
   ],
   "source": [
    "import matplotlib.pyplot as plt\n",
    "\n",
    "fig, ax = plt.subplots(figsize=(11,5))\n",
    "ax.plot(Bucks_bet.index, Bucks_bet.values)\n",
    "ax.set_xlabel('Sportsbooks', fontsize=14)\n",
    "ax.set_ylabel('Value', fontsize=14)\n",
    "ax.set_title('Sportsbooks Difference', fontsize=14)\n",
    "\n",
    "plt.show()"
   ]
  },
  {
   "cell_type": "code",
   "execution_count": 38,
   "id": "f68b406b",
   "metadata": {},
   "outputs": [
    {
     "name": "stdout",
     "output_type": "stream",
     "text": [
      "            Game   Open  Best Odds  Pointsbet  BetMGM  Caesars  Fandual  \\\n",
      "0          Bucks -275.0     -315.0     -325.0  -350.0   -335.0   -355.0   \n",
      "1          Bulls  230.0      285.0      250.0   260.0    260.0    285.0   \n",
      "5        Wizards  145.0      145.0      135.0   140.0    122.0    134.0   \n",
      "6   Timberwolves -180.0     -145.0     -160.0  -165.0   -145.0   -158.0   \n",
      "10      Clippers -130.0     -108.0     -110.0  -110.0   -115.0   -124.0   \n",
      "11          Suns  107.0      106.0     -110.0  -110.0   -105.0    106.0   \n",
      "\n",
      "    Draftkings  BetRivers  BetRivers 2  Unibet  bet365  \n",
      "0       -330.0     -335.0       -335.0  -335.0  -315.0  \n",
      "1        275.0      265.0        270.0   270.0   255.0  \n",
      "5        145.0      130.0        132.0   132.0   140.0  \n",
      "6       -170.0     -159.0       -157.0  -157.0  -160.0  \n",
      "10      -115.0     -109.0       -108.0  -108.0  -110.0  \n",
      "11      -105.0     -112.0       -110.0  -110.0  -110.0  \n"
     ]
    }
   ],
   "source": [
    "df_open = df.iloc[0:12, :]\n",
    "print(df_open)"
   ]
  },
  {
   "cell_type": "code",
   "execution_count": null,
   "id": "314f8841",
   "metadata": {},
   "outputs": [],
   "source": []
  }
 ],
 "metadata": {
  "kernelspec": {
   "display_name": "Python 3 (ipykernel)",
   "language": "python",
   "name": "python3"
  },
  "language_info": {
   "codemirror_mode": {
    "name": "ipython",
    "version": 3
   },
   "file_extension": ".py",
   "mimetype": "text/x-python",
   "name": "python",
   "nbconvert_exporter": "python",
   "pygments_lexer": "ipython3",
   "version": "3.9.13"
  }
 },
 "nbformat": 4,
 "nbformat_minor": 5
}
