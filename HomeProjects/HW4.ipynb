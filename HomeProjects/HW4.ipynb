{
 "cells": [
  {
   "cell_type": "markdown",
   "id": "2ef863e3",
   "metadata": {},
   "source": [
    "### Homework 4"
   ]
  },
  {
   "cell_type": "markdown",
   "id": "af339f7d",
   "metadata": {},
   "source": [
    "1. Create a function that calculates the length of a list without using len()\n",
    " and returns this value. Create a list and pass it to the function to find its \n",
    " length."
   ]
  },
  {
   "cell_type": "code",
   "execution_count": 8,
   "id": "f07e401c",
   "metadata": {},
   "outputs": [],
   "source": [
    "def list_length(lst):\n",
    "    number = 0\n",
    "    for element in lst:\n",
    "        number += 1\n",
    "    return number"
   ]
  },
  {
   "cell_type": "code",
   "execution_count": 11,
   "id": "a8cf7208",
   "metadata": {},
   "outputs": [
    {
     "data": {
      "text/plain": [
       "10"
      ]
     },
     "execution_count": 11,
     "metadata": {},
     "output_type": "execute_result"
    }
   ],
   "source": [
    "example_list = [0,58,794,9444,5558,2,6,7,8,6]\n",
    "list_length(example_list)"
   ]
  },
  {
   "cell_type": "markdown",
   "id": "7dbf0850",
   "metadata": {},
   "source": [
    "2. Create a function that performs dot multiplication on two vectors (lists), \n",
    " such that if list1 = [x1,x2,x3] and list2 = [y1,y2,y3], \n",
    " dot_product_list1_list2 = [x1y1, x2y2, x3y3] and returns this list. \n",
    "Pass two lists of the same length to this function."
   ]
  },
  {
   "cell_type": "code",
   "execution_count": 22,
   "id": "3c5687ec",
   "metadata": {},
   "outputs": [],
   "source": [
    "def dot_mult_list1_list2(list1, list2):\n",
    "    result = []\n",
    "    for i in range(len(list1)):\n",
    "        result.append(list1[i] * list2[i])\n",
    "        \n",
    "    return result\n",
    "    "
   ]
  },
  {
   "cell_type": "code",
   "execution_count": 23,
   "id": "fd02ba16",
   "metadata": {},
   "outputs": [
    {
     "data": {
      "text/plain": [
       "[45, 60, 77]"
      ]
     },
     "execution_count": 23,
     "metadata": {},
     "output_type": "execute_result"
    }
   ],
   "source": [
    "list1 = [5,6,7]\n",
    "list2 = [9,10,11]\n",
    "dot_mult_list1_list2(list1, list2)"
   ]
  },
  {
   "cell_type": "markdown",
   "id": "7ad9a299",
   "metadata": {},
   "source": [
    "3. In a single line, pass two lists of the same length to the function from\n",
    " question 2 and pass the instance of that function to the function from \n",
    " question 1. What is the length of dot_product_list1_list2?"
   ]
  },
  {
   "cell_type": "code",
   "execution_count": 31,
   "id": "c286b9bb",
   "metadata": {},
   "outputs": [
    {
     "data": {
      "text/plain": [
       "3"
      ]
     },
     "execution_count": 31,
     "metadata": {},
     "output_type": "execute_result"
    }
   ],
   "source": [
    "list_length(dot_mult_list1_list2([1,2,3],[4,5,6]))"
   ]
  },
  {
   "cell_type": "markdown",
   "id": "b30f7beb",
   "metadata": {},
   "source": [
    "4. Create two unique lists using generator functions and pass them to the\n",
    " function created in question 2."
   ]
  },
  {
   "cell_type": "code",
   "execution_count": 47,
   "id": "9c3a7eb3",
   "metadata": {},
   "outputs": [
    {
     "name": "stdout",
     "output_type": "stream",
     "text": [
      "Dot Multiplication: [0.0, 31.27, 184.16, 59.49, 748.96, 462.0, 1908.36, 4383.05, 1545.6, 5501.52, 4820.0, 4953.74, 13455.36, 4054.31, 876.12]\n",
      "List1: [0.05, 31.27, 46.04, 6.61, 46.81, 18.48, 53.01, 89.45, 24.15, 67.92, 48.2, 40.94, 93.44, 23.99, 4.47]\n",
      "List2: [0, 1, 4, 9, 16, 25, 36, 49, 64, 81, 100, 121, 144, 169, 196]\n"
     ]
    }
   ],
   "source": [
    "import random\n",
    "\n",
    "list_1 = random_list\n",
    "list_2 = power_num\n",
    "\n",
    "random_list = [round(random.random() * 100, 2) for i in range(15)]\n",
    "power_num = [(i ** 2) for i in range(15)]\n",
    "\n",
    "dot_mult = dot_mult_list1_list2(list_1, list_2)\n",
    "print(\"Dot Multiplication:\", dot_mult)\n",
    "print(\"List1:\", list_1)\n",
    "print(\"List2:\", list_2)"
   ]
  },
  {
   "cell_type": "markdown",
   "id": "46092de1",
   "metadata": {},
   "source": [
    "5. Create a function that checks the types of elements in a list. For example,\n",
    " if a list contains a string, an integer, and a float, this function should \n",
    " return a list that contains identifies these three types: [str, int, float]"
   ]
  },
  {
   "cell_type": "code",
   "execution_count": 57,
   "id": "bda68bec",
   "metadata": {},
   "outputs": [],
   "source": [
    "def type_list(lst):\n",
    "    result=[]\n",
    "    for i in lst:\n",
    "        result.append(type(i).__name__)\n",
    "    return result\n",
    "        "
   ]
  },
  {
   "cell_type": "code",
   "execution_count": 63,
   "id": "bf2553ff",
   "metadata": {},
   "outputs": [
    {
     "name": "stdout",
     "output_type": "stream",
     "text": [
      "['int', 'float', 'str']\n"
     ]
    }
   ],
   "source": [
    "result = type_list([1,1.0,\"88\"])\n",
    "print(result)"
   ]
  },
  {
   "cell_type": "markdown",
   "id": "701c9272",
   "metadata": {},
   "source": [
    "6. In a single line, pass a list with at least 4 different types to the function \n",
    " from question 5 and pass the result to the funciton measuring length. "
   ]
  },
  {
   "cell_type": "code",
   "execution_count": 65,
   "id": "d9e9ea77",
   "metadata": {},
   "outputs": [
    {
     "data": {
      "text/plain": [
       "4"
      ]
     },
     "execution_count": 65,
     "metadata": {},
     "output_type": "execute_result"
    }
   ],
   "source": [
    "list_length(type_list([1,2.,\"Hi\",False]))"
   ]
  },
  {
   "cell_type": "markdown",
   "id": "68d56547",
   "metadata": {},
   "source": [
    "7. Create a class that houses each of the functions (now methods) that you have created. \n",
    " Create an instance of that class and use each of the methods from the class."
   ]
  },
  {
   "cell_type": "code",
   "execution_count": 68,
   "id": "f5b3db87",
   "metadata": {},
   "outputs": [],
   "source": [
    "class methods:\n",
    "    def list_length(lst):\n",
    "        number = 0\n",
    "        for element in lst:\n",
    "            number += 1\n",
    "        return number\n",
    "\n",
    "    def dot_mult_list1_list2(list1, list2):\n",
    "        result = []\n",
    "        for i in range(len(list1)):\n",
    "            result.append(list1[i] * list2[i])\n",
    "        return result\n",
    "\n",
    "    def type_list(lst):\n",
    "        result=[]\n",
    "        for i in lst:\n",
    "            result.append(type(i).__name__)\n",
    "        return result\n",
    "\n",
    "    def random_gen_list(lst): \n",
    "        random_list = [round(random.random() * 100, 2) for i in range(15)]\n",
    "        return random_list\n",
    "\n",
    "    def power_gen_list(lst):\n",
    "        power_num = [(i ** 2) for i in range(15)]\n",
    "        return power_num\n"
   ]
  },
  {
   "cell_type": "code",
   "execution_count": 71,
   "id": "40618a33",
   "metadata": {},
   "outputs": [
    {
     "name": "stdout",
     "output_type": "stream",
     "text": [
      "Random List: [76.26, 93.63, 51.2, 77.29, 40.1, 4.48, 7.11, 77.83, 12.25, 83.76, 59.24, 0.88, 98.63, 68.39, 91.14]\n",
      "Power List: [0, 1, 4, 9, 16, 25, 36, 49, 64, 81, 100, 121, 144, 169, 196]\n"
     ]
    },
    {
     "ename": "TypeError",
     "evalue": "list_length() takes 1 positional argument but 2 were given",
     "output_type": "error",
     "traceback": [
      "\u001b[1;31m---------------------------------------------------------------------------\u001b[0m",
      "\u001b[1;31mTypeError\u001b[0m                                 Traceback (most recent call last)",
      "\u001b[1;32m~\\AppData\\Local\\Temp\\ipykernel_21108\\3222555013.py\u001b[0m in \u001b[0;36m<module>\u001b[1;34m\u001b[0m\n\u001b[0;32m      5\u001b[0m \u001b[0mprint\u001b[0m\u001b[1;33m(\u001b[0m\u001b[1;34m\"Power List:\"\u001b[0m\u001b[1;33m,\u001b[0m \u001b[0mpower_num\u001b[0m\u001b[1;33m)\u001b[0m\u001b[1;33m\u001b[0m\u001b[1;33m\u001b[0m\u001b[0m\n\u001b[0;32m      6\u001b[0m \u001b[1;33m\u001b[0m\u001b[0m\n\u001b[1;32m----> 7\u001b[1;33m \u001b[0mlength\u001b[0m \u001b[1;33m=\u001b[0m \u001b[0mmethods\u001b[0m\u001b[1;33m.\u001b[0m\u001b[0mlist_length\u001b[0m\u001b[1;33m(\u001b[0m\u001b[0mlist1\u001b[0m\u001b[1;33m,\u001b[0m \u001b[0mlist2\u001b[0m\u001b[1;33m)\u001b[0m\u001b[1;33m\u001b[0m\u001b[1;33m\u001b[0m\u001b[0m\n\u001b[0m\u001b[0;32m      8\u001b[0m \u001b[0mprint\u001b[0m\u001b[1;33m(\u001b[0m\u001b[0mlength\u001b[0m\u001b[1;33m)\u001b[0m\u001b[1;33m\u001b[0m\u001b[1;33m\u001b[0m\u001b[0m\n\u001b[0;32m      9\u001b[0m \u001b[1;33m\u001b[0m\u001b[0m\n",
      "\u001b[1;31mTypeError\u001b[0m: list_length() takes 1 positional argument but 2 were given"
     ]
    }
   ],
   "source": [
    "list1 = methods.random_gen_list(0)\n",
    "print(\"Random List:\", random_list)\n",
    "\n",
    "list2 = methods.power_gen_list(0)\n",
    "print(\"Power List:\", power_num)\n",
    "\n",
    "length = methods.list_length(list1, list2)\n",
    "print(length)\n",
    "\n",
    "dot_mult = methods.dot_mult_list1_list2(list1, list2)\n",
    "print(dot_mult)\n",
    "\n",
    "type = methods.type_list(list1, list2)"
   ]
  },
  {
   "cell_type": "markdown",
   "id": "4c8ff7f3",
   "metadata": {},
   "source": [
    "1. Download and plot 3 apparently related sets of data with at least. Each set should contain at least two related variables. You should explain *how* variables in each set of data are related. Plot each set using the scatter plot function *and* the line graph function. For example, you might the obseved rate of unemployement and the natural rate of unemployment in the same graph. To find data, search for data at FRED and use the code associated with the data. For example, the [CPI measure that includes urban items](https://fred.stlouisfed.org/series/CPIAUCSL) is identified by the code, *CPIAUCSL*.\n",
    "\n",
    "2. Create a correlation matrix for quarterly observations of Nominal GDP, Real GDP, the Price Level (CPI or GDP Deflator), the quantity of currency in circulation and the federal funds rate for as large of a date range as possible. Then, calculate the year-over-year percent change for each each variable and save the results as variables in the same dataframe. Create a correlation matrix for these new variables.\n",
    "\n",
    "How has the correlation between each variable changed? Why do you think the correlation changes after calculate the year-over-year percent change?"
   ]
  },
  {
   "cell_type": "code",
   "execution_count": null,
   "id": "30dbd5d6",
   "metadata": {},
   "outputs": [],
   "source": []
  }
 ],
 "metadata": {
  "kernelspec": {
   "display_name": "Python 3 (ipykernel)",
   "language": "python",
   "name": "python3"
  },
  "language_info": {
   "codemirror_mode": {
    "name": "ipython",
    "version": 3
   },
   "file_extension": ".py",
   "mimetype": "text/x-python",
   "name": "python",
   "nbconvert_exporter": "python",
   "pygments_lexer": "ipython3",
   "version": "3.9.13"
  }
 },
 "nbformat": 4,
 "nbformat_minor": 5
}
