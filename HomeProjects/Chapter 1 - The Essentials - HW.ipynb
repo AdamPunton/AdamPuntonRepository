{
 "cells": [
  {
   "cell_type": "markdown",
   "id": "7ace4393",
   "metadata": {},
   "source": [
    "## 1."
   ]
  },
  {
   "cell_type": "markdown",
   "id": "64add60e",
   "metadata": {},
   "source": [
    "Record your name in an object (x = ...) and a description of yourself in another object."
   ]
  },
  {
   "cell_type": "code",
   "execution_count": null,
   "id": "668520df",
   "metadata": {},
   "outputs": [],
   "source": []
  },
  {
   "cell_type": "markdown",
   "id": "b6f8787a",
   "metadata": {},
   "source": [
    "## 2."
   ]
  },
  {
   "cell_type": "markdown",
   "id": "9978bb24",
   "metadata": {},
   "source": [
    "Raise 2 to the 4th power. Save the value as an object named twoToTheFourth. Then create a new value that sums the value twice. Create another variable that saves the value of twoToTheFourth as a string. Just as with the numeric value, sum the string object twice."
   ]
  },
  {
   "cell_type": "markdown",
   "id": "9ab83912",
   "metadata": {},
   "source": [
    "## 3. "
   ]
  },
  {
   "cell_type": "markdown",
   "id": "2652aa80",
   "metadata": {},
   "source": [
    "Find the list of escape sequences in Section 2.4. create a string that uses at least 4 different escape sequences."
   ]
  },
  {
   "cell_type": "markdown",
   "id": "51bda54d",
   "metadata": {},
   "source": [
    "## 4. "
   ]
  },
  {
   "cell_type": "markdown",
   "id": "f6a0e39b",
   "metadata": {},
   "source": [
    "Add an integer and a float together. Is the final number an integer or a float?"
   ]
  },
  {
   "cell_type": "markdown",
   "id": "2d9e6d2d",
   "metadata": {},
   "source": [
    "## 5."
   ]
  },
  {
   "cell_type": "markdown",
   "id": "370c6f33",
   "metadata": {},
   "source": [
    "Add 2 ** 1024 + 1.5. What is the outcome? Why? hint: Try adding .5, 1, and 1.1 instead of 1.5."
   ]
  },
  {
   "cell_type": "markdown",
   "id": "0d0aac35",
   "metadata": {},
   "source": [
    "## 6."
   ]
  },
  {
   "cell_type": "markdown",
   "id": "65a6bf25",
   "metadata": {},
   "source": [
    "import the string library with the script import string. Print string.__dict__ . What is the output? If you do not understand the meaning, search \"python class __dict__\" online and find an explanation."
   ]
  },
  {
   "cell_type": "markdown",
   "id": "5ff3f499",
   "metadata": {},
   "source": [
    "## 7."
   ]
  },
  {
   "cell_type": "markdown",
   "id": "152e69f2",
   "metadata": {},
   "source": [
    "Call at least 5 of the results from string.__dict__."
   ]
  },
  {
   "cell_type": "markdown",
   "id": "0c3eff72",
   "metadata": {},
   "source": [
    "## 8."
   ]
  },
  {
   "cell_type": "markdown",
   "id": "f7655485",
   "metadata": {},
   "source": [
    "Concatenate 3 distinct strings"
   ]
  },
  {
   "cell_type": "code",
   "execution_count": null,
   "id": "1731f812",
   "metadata": {},
   "outputs": [],
   "source": []
  }
 ],
 "metadata": {
  "kernelspec": {
   "display_name": "Python 3 (ipykernel)",
   "language": "python",
   "name": "python3"
  },
  "language_info": {
   "codemirror_mode": {
    "name": "ipython",
    "version": 3
   },
   "file_extension": ".py",
   "mimetype": "text/x-python",
   "name": "python",
   "nbconvert_exporter": "python",
   "pygments_lexer": "ipython3",
   "version": "3.9.13"
  }
 },
 "nbformat": 4,
 "nbformat_minor": 5
}
