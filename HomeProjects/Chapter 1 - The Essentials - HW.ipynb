{
 "cells": [
  {
   "cell_type": "markdown",
   "id": "db7ef78c",
   "metadata": {},
   "source": [
    "## 1.\n",
    "Record your name in an object (x = ...) and a description of yourself in another object."
   ]
  },
  {
   "cell_type": "code",
   "execution_count": 9,
   "id": "5ea32097",
   "metadata": {},
   "outputs": [
    {
     "name": "stdout",
     "output_type": "stream",
     "text": [
      "Adam Punton\n",
      "Student studying Finance\n"
     ]
    }
   ],
   "source": [
    "x = \"Adam Punton\"\n",
    "y = \"Student studying Finance\"\n",
    "print(x)\n",
    "print(y)"
   ]
  },
  {
   "cell_type": "markdown",
   "id": "b52801f9",
   "metadata": {},
   "source": [
    "## 2. \n",
    "Raise 2 to the 4th power. Save the value as an object named twoToTheFourth. Then create a new value that sums the value twice. Create another variable that saves the value of twoToTheFourth as a string. Just as with the numeric value, sum the string object twice."
   ]
  },
  {
   "cell_type": "code",
   "execution_count": 10,
   "id": "07fa364f",
   "metadata": {},
   "outputs": [
    {
     "data": {
      "text/plain": [
       "16"
      ]
     },
     "execution_count": 10,
     "metadata": {},
     "output_type": "execute_result"
    }
   ],
   "source": [
    "2 ** 4  "
   ]
  },
  {
   "cell_type": "code",
   "execution_count": null,
   "id": "8684872b",
   "metadata": {},
   "outputs": [],
   "source": []
  },
  {
   "cell_type": "code",
   "execution_count": 7,
   "id": "d6429cdb",
   "metadata": {},
   "outputs": [
    {
     "name": "stdout",
     "output_type": "stream",
     "text": [
      "16\n",
      "32\n"
     ]
    }
   ],
   "source": [
    "twoToTheFourth = 2 ** 4\n",
    "print(twoToTheFourth)\n",
    "print(twoToTheFourth + twoToTheFourth)\n"
   ]
  },
  {
   "cell_type": "markdown",
   "id": "7e5641da",
   "metadata": {},
   "source": [
    " ## 3.\n",
    "Find the list of escape sequences in Section 2.4. create a string that uses at least 4 different escape sequences."
   ]
  },
  {
   "cell_type": "code",
   "execution_count": 14,
   "id": "561f6554",
   "metadata": {},
   "outputs": [
    {
     "name": "stdout",
     "output_type": "stream",
     "text": [
      "\"Once upon a time\n",
      " In a galaxy\n",
      " Far Far Away\"\n"
     ]
    }
   ],
   "source": [
    "str1 = '\\\"Once upon a time\\n In a galaxy\\n Far Far Away\\\"'\n",
    "print(str1)"
   ]
  },
  {
   "cell_type": "markdown",
   "id": "a527a09c",
   "metadata": {},
   "source": [
    "## 4.\n",
    "Add an integer and a float together. Is the final number an integer or a float?"
   ]
  },
  {
   "cell_type": "code",
   "execution_count": 18,
   "id": "b8117bd6",
   "metadata": {},
   "outputs": [
    {
     "name": "stdout",
     "output_type": "stream",
     "text": [
      "2.0 <class 'float'>\n"
     ]
    }
   ],
   "source": [
    "num1 = 1 + 1.\n",
    "print(num1, type(num1))"
   ]
  },
  {
   "cell_type": "markdown",
   "id": "fc756541",
   "metadata": {},
   "source": [
    "## 5.\n",
    "Add 2 ** 1024 + 1.5. What is the outcome? Why? hint: Try adding .5, 1, and 1.1 instead of 1.5."
   ]
  },
  {
   "cell_type": "code",
   "execution_count": 19,
   "id": "7507c074",
   "metadata": {},
   "outputs": [
    {
     "ename": "OverflowError",
     "evalue": "int too large to convert to float",
     "output_type": "error",
     "traceback": [
      "\u001b[1;31m---------------------------------------------------------------------------\u001b[0m",
      "\u001b[1;31mOverflowError\u001b[0m                             Traceback (most recent call last)",
      "\u001b[1;32m~\\AppData\\Local\\Temp\\ipykernel_19680\\1922726047.py\u001b[0m in \u001b[0;36m<module>\u001b[1;34m\u001b[0m\n\u001b[1;32m----> 1\u001b[1;33m \u001b[1;36m2\u001b[0m \u001b[1;33m**\u001b[0m \u001b[1;36m1024\u001b[0m \u001b[1;33m+\u001b[0m \u001b[1;36m1.5\u001b[0m\u001b[1;33m\u001b[0m\u001b[1;33m\u001b[0m\u001b[0m\n\u001b[0m",
      "\u001b[1;31mOverflowError\u001b[0m: int too large to convert to float"
     ]
    }
   ],
   "source": [
    "2 ** 1024 + 1.5"
   ]
  },
  {
   "cell_type": "code",
   "execution_count": null,
   "id": "f130a28b",
   "metadata": {},
   "outputs": [],
   "source": [
    "# the outcome is two large because the solution would add a decimal which \n",
    "# makes the solution number to large"
   ]
  },
  {
   "cell_type": "code",
   "execution_count": 20,
   "id": "3f504e84",
   "metadata": {},
   "outputs": [
    {
     "ename": "OverflowError",
     "evalue": "int too large to convert to float",
     "output_type": "error",
     "traceback": [
      "\u001b[1;31m---------------------------------------------------------------------------\u001b[0m",
      "\u001b[1;31mOverflowError\u001b[0m                             Traceback (most recent call last)",
      "\u001b[1;32m~\\AppData\\Local\\Temp\\ipykernel_19680\\1268821155.py\u001b[0m in \u001b[0;36m<module>\u001b[1;34m\u001b[0m\n\u001b[1;32m----> 1\u001b[1;33m \u001b[1;36m2\u001b[0m \u001b[1;33m**\u001b[0m \u001b[1;36m1024\u001b[0m \u001b[1;33m+\u001b[0m \u001b[1;36m.5\u001b[0m\u001b[1;33m\u001b[0m\u001b[1;33m\u001b[0m\u001b[0m\n\u001b[0m\u001b[0;32m      2\u001b[0m \u001b[1;36m2\u001b[0m \u001b[1;33m**\u001b[0m \u001b[1;36m1024\u001b[0m \u001b[1;33m+\u001b[0m \u001b[1;36m1\u001b[0m\u001b[1;33m\u001b[0m\u001b[1;33m\u001b[0m\u001b[0m\n\u001b[0;32m      3\u001b[0m \u001b[1;36m2\u001b[0m \u001b[1;33m**\u001b[0m \u001b[1;36m1024\u001b[0m \u001b[1;33m+\u001b[0m \u001b[1;36m1.1\u001b[0m\u001b[1;33m\u001b[0m\u001b[1;33m\u001b[0m\u001b[0m\n",
      "\u001b[1;31mOverflowError\u001b[0m: int too large to convert to float"
     ]
    }
   ],
   "source": [
    "2 ** 1024 + .5\n",
    "2 ** 1024 + 1\n",
    "2 ** 1024 + 1.1"
   ]
  },
  {
   "cell_type": "markdown",
   "id": "fffbfb0e",
   "metadata": {},
   "source": [
    "## 6.\n",
    "import the string library with the script import string. Print string.__dict__ . What is the output? If you do not understand the meaning, search \"python class __dict__\" online and find an explanation."
   ]
  },
  {
   "cell_type": "code",
   "execution_count": 23,
   "id": "85bdf7ef",
   "metadata": {},
   "outputs": [
    {
     "ename": "AttributeError",
     "evalue": "module 'string' has no attribute 'dict'",
     "output_type": "error",
     "traceback": [
      "\u001b[1;31m---------------------------------------------------------------------------\u001b[0m",
      "\u001b[1;31mAttributeError\u001b[0m                            Traceback (most recent call last)",
      "\u001b[1;32m~\\AppData\\Local\\Temp\\ipykernel_19680\\4021211767.py\u001b[0m in \u001b[0;36m<module>\u001b[1;34m\u001b[0m\n\u001b[0;32m      1\u001b[0m \u001b[1;32mimport\u001b[0m \u001b[0mstring\u001b[0m\u001b[1;33m\u001b[0m\u001b[1;33m\u001b[0m\u001b[0m\n\u001b[1;32m----> 2\u001b[1;33m \u001b[0mprint\u001b[0m\u001b[1;33m(\u001b[0m\u001b[0mstring\u001b[0m\u001b[1;33m.\u001b[0m\u001b[0mdict\u001b[0m\u001b[1;33m)\u001b[0m\u001b[1;33m\u001b[0m\u001b[1;33m\u001b[0m\u001b[0m\n\u001b[0m",
      "\u001b[1;31mAttributeError\u001b[0m: module 'string' has no attribute 'dict'"
     ]
    }
   ],
   "source": [
    "import string\n",
    "print(string.dict)"
   ]
  },
  {
   "cell_type": "code",
   "execution_count": null,
   "id": "362024d8",
   "metadata": {},
   "outputs": [],
   "source": []
  },
  {
   "cell_type": "markdown",
   "id": "015c41f7",
   "metadata": {},
   "source": [
    "## 7.\n",
    "Call at least 5 of the results from string.__dict__."
   ]
  },
  {
   "cell_type": "markdown",
   "id": "3dd3ce74",
   "metadata": {},
   "source": [
    "## 8.\n",
    "Concatenate 3 distinct strings"
   ]
  },
  {
   "cell_type": "code",
   "execution_count": 24,
   "id": "6070ab6f",
   "metadata": {},
   "outputs": [
    {
     "name": "stdout",
     "output_type": "stream",
     "text": [
      "Basketball rocks\n"
     ]
    }
   ],
   "source": [
    "str = \"Basketball\" + \" \" + \"rocks\"\n",
    "print(str)"
   ]
  }
 ],
 "metadata": {
  "kernelspec": {
   "display_name": "Python 3 (ipykernel)",
   "language": "python",
   "name": "python3"
  },
  "language_info": {
   "codemirror_mode": {
    "name": "ipython",
    "version": 3
   },
   "file_extension": ".py",
   "mimetype": "text/x-python",
   "name": "python",
   "nbconvert_exporter": "python",
   "pygments_lexer": "ipython3",
   "version": "3.9.13"
  }
 },
 "nbformat": 4,
 "nbformat_minor": 5
}
