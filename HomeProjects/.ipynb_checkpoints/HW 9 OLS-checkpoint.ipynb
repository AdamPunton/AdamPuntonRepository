{
 "cells": [
  {
   "cell_type": "markdown",
   "id": "db6ddc0a",
   "metadata": {},
   "source": [
    "Exercises\n",
    "Rerun the last regression where, only including oecd countries in the subset. A list of OECD countries is provided. You will need to find the 3 letter ISO code associated with each country. (Hint: Reimport the dataframe we saved early in the lesson)\n",
    "\n",
    "oecd_countries = [\"Australia\", \"Austria\", \"Belgium\", \"Canada\", \"Chile\", \"Colombia\", \"Costa Rica\",\n",
    "            \"Czech Republic\", \"Denmark\", \"Estonia\", \"Finland\", \"France\", \"Germany\",\n",
    "            \"Greece\", \"Hungary\", \"Iceland\", \"Ireland\", \"Israel\", \"Italy\", \"Japan\", \n",
    "            \"Latvia\", \"Lithuania\",\"Luxembourg\", \"Mexico\", \"Netherlands\", \"New Zealand\", \"Norway\",\n",
    "             \"Poland\",\"Portugal\", \"Slovakia\", \"Slovenia\", \"South Korea\", \"Spain\", \"Sweden\",\n",
    "             \"Switzerland\", \"Turkey\", \"United Kingdom\", \"United States\"]\n",
    "             \n",
    "Plot the residuals in a histogram. Explain why the shape of the distribution of these residuals are distinct from the shape of the residuals plotted in the first regressions from this lesson.\n",
    "\n",
    "Plot seperate scatter plots for each variable (x-axis) against the predictor (y-axis). ThenPlot seperate scatter plots for each variable (x-axis) against the predictor (y-axis). Do we observe bias in the resdiuals when controlling for each variable? Why does this matter?\n",
    "\n",
    "Plot the observed and predicted values of RGDP Per Capita for each individual country.\n",
    "\n",
    "Repeat questions 1 through 4 using 2 year lags and differences instead of 5 year lags and differences."
   ]
  },
  {
   "cell_type": "code",
   "execution_count": null,
   "id": "4b610ffa",
   "metadata": {},
   "outputs": [],
   "source": []
  }
 ],
 "metadata": {
  "kernelspec": {
   "display_name": "Python 3 (ipykernel)",
   "language": "python",
   "name": "python3"
  },
  "language_info": {
   "codemirror_mode": {
    "name": "ipython",
    "version": 3
   },
   "file_extension": ".py",
   "mimetype": "text/x-python",
   "name": "python",
   "nbconvert_exporter": "python",
   "pygments_lexer": "ipython3",
   "version": "3.9.13"
  }
 },
 "nbformat": 4,
 "nbformat_minor": 5
}
