{
 "cells": [
  {
   "cell_type": "markdown",
   "id": "8faa7293",
   "metadata": {},
   "source": [
    "## 1.\n",
    "Create a list of numbers 100 elements in length that counts by 3s - i.e., [3,6,9,12,...]"
   ]
  },
  {
   "cell_type": "code",
   "execution_count": 4,
   "id": "0db4c1a6",
   "metadata": {
    "scrolled": true
   },
   "outputs": [
    {
     "name": "stdout",
     "output_type": "stream",
     "text": [
      "[0, 3, 6, 9, 12, 15, 18, 21, 24, 27, 30, 33, 36, 39, 42, 45, 48, 51, 54, 57, 60, 63, 66, 69, 72, 75, 78, 81, 84, 87, 90, 93, 96, 99]\n"
     ]
    }
   ],
   "source": [
    "list1 = [*range(0,100,3)]\n",
    "print(list1)"
   ]
  },
  {
   "cell_type": "markdown",
   "id": "986438a6",
   "metadata": {},
   "source": [
    "## 2. \n",
    "Using the list from question 1, create a second list whose elements are the same values converted to strings. hint: use a for loop and the function str()."
   ]
  },
  {
   "cell_type": "code",
   "execution_count": 28,
   "id": "65cdba37",
   "metadata": {},
   "outputs": [
    {
     "data": {
      "text/plain": [
       "'0 3 6 9 12 15 18 21 24 27 30 33 36 39 42 45 48 51 54 57 60 63 66 69 72 75 78 81 84 87 90 93 96 99'"
      ]
     },
     "execution_count": 28,
     "metadata": {},
     "output_type": "execute_result"
    }
   ],
   "source": [
    "\n",
    "' '.join(str(e) for e in list1)"
   ]
  },
  {
   "cell_type": "markdown",
   "id": "fa00f3e0",
   "metadata": {},
   "source": [
    "## 3. \n",
    "Using the list from question 2, create a variable that concatenates each of the elements in order of index (Hint: result should be like \"36912...\")."
   ]
  },
  {
   "cell_type": "code",
   "execution_count": 29,
   "id": "2767b5e5",
   "metadata": {},
   "outputs": [
    {
     "data": {
      "text/plain": [
       "'0369121518212427303336394245485154576063666972757881848790939699'"
      ]
     },
     "execution_count": 29,
     "metadata": {},
     "output_type": "execute_result"
    }
   ],
   "source": [
    "\n",
    "''.join(str(e) for e in list1)"
   ]
  },
  {
   "cell_type": "markdown",
   "id": "c7b0ffdf",
   "metadata": {},
   "source": [
    "## 4. \n",
    "Using .pop() and .append(), create a list whose values are the same as the list from question 1 but in reverse order. (Hint: .pop() removes the last element from a list. The value can be save, i.e., x = lst.pop().)"
   ]
  },
  {
   "cell_type": "code",
   "execution_count": 6,
   "id": "87bf354b",
   "metadata": {},
   "outputs": [
    {
     "name": "stdout",
     "output_type": "stream",
     "text": [
      "[99, 96, 93, 90, 87, 84, 81, 78, 75, 72, 69, 66, 63, 60, 57, 54, 51, 48, 45, 42, 39, 36, 33, 30, 27, 24, 21, 18, 15, 12, 9, 6, 3, 0]\n"
     ]
    }
   ],
   "source": [
    "list1 = [*range(0,100,3)]\n",
    "list_reverse = []\n",
    "for value in range(len(list1)):\n",
    "    list_reverse.append(list1.pop())\n",
    "print(list_reverse)"
   ]
  },
  {
   "cell_type": "markdown",
   "id": "f0d391ce",
   "metadata": {},
   "source": [
    "## 5. \n",
    "Using len(), calculate the midpoint of the list from question 1. Pass this midpoint to slice the list so that the resultant copy includes only the second half of the list from question 1."
   ]
  },
  {
   "cell_type": "code",
   "execution_count": 22,
   "id": "da910b1d",
   "metadata": {},
   "outputs": [
    {
     "data": {
      "text/plain": [
       "[51, 54, 57, 60, 63, 66, 69, 72, 75, 78, 81, 84, 87, 90, 93, 96, 99]"
      ]
     },
     "execution_count": 22,
     "metadata": {},
     "output_type": "execute_result"
    }
   ],
   "source": [
    "list1 = [*range(0,100,3)]\n",
    "\n",
    "midpoint = int(len(list1)/2)\n",
    "list1[midpoint: ]\n"
   ]
  },
  {
   "cell_type": "markdown",
   "id": "27430666",
   "metadata": {},
   "source": [
    "## 6.\n",
    "Create a string that includes only every other element, starting from the 0th element, from the string in question 3 while maintaining the order of these elements (Hint: this can be done be using a for loop whose values are descending)."
   ]
  },
  {
   "cell_type": "code",
   "execution_count": null,
   "id": "30972a32",
   "metadata": {},
   "outputs": [],
   "source": []
  },
  {
   "cell_type": "markdown",
   "id": "b768beeb",
   "metadata": {},
   "source": [
    "## 7.\n",
    "Explain the difference between a dynamic list in Python (usually referred to as a list) and a tuple."
   ]
  },
  {
   "cell_type": "code",
   "execution_count": null,
   "id": "5a7b5df2",
   "metadata": {},
   "outputs": [],
   "source": [
    "# A dynamic list characters can be modified as characters in tuples can not\n",
    "# by modified. "
   ]
  }
 ],
 "metadata": {
  "kernelspec": {
   "display_name": "Python 3 (ipykernel)",
   "language": "python",
   "name": "python3"
  },
  "language_info": {
   "codemirror_mode": {
    "name": "ipython",
    "version": 3
   },
   "file_extension": ".py",
   "mimetype": "text/x-python",
   "name": "python",
   "nbconvert_exporter": "python",
   "pygments_lexer": "ipython3",
   "version": "3.9.13"
  }
 },
 "nbformat": 4,
 "nbformat_minor": 5
}
